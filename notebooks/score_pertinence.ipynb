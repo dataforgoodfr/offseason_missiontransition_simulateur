{
 "cells": [
  {
   "cell_type": "code",
   "execution_count": 1,
   "id": "f4a3a216",
   "metadata": {},
   "outputs": [],
   "source": [
    "import pandas as pd\n",
    "import sys\n",
    "import requests\n",
    "from io import StringIO\n",
    "from tqdm.auto import tqdm\n",
    "import re\n",
    "import os\n",
    "\n",
    "os.chdir(\"../\")\n",
    "sys.path.append(\"./src\")\n",
    "\n",
    "from data_fetching.sirene import get_company_info"
   ]
  },
  {
   "cell_type": "code",
   "execution_count": 2,
   "id": "0528dae3",
   "metadata": {},
   "outputs": [
    {
     "data": {
      "application/javascript": [
       "\n",
       "            setTimeout(function() {\n",
       "                var nbb_cell_id = 2;\n",
       "                var nbb_unformatted_code = \"%load_ext nb_black\";\n",
       "                var nbb_formatted_code = \"%load_ext nb_black\";\n",
       "                var nbb_cells = Jupyter.notebook.get_cells();\n",
       "                for (var i = 0; i < nbb_cells.length; ++i) {\n",
       "                    if (nbb_cells[i].input_prompt_number == nbb_cell_id) {\n",
       "                        if (nbb_cells[i].get_text() == nbb_unformatted_code) {\n",
       "                             nbb_cells[i].set_text(nbb_formatted_code);\n",
       "                        }\n",
       "                        break;\n",
       "                    }\n",
       "                }\n",
       "            }, 500);\n",
       "            "
      ],
      "text/plain": [
       "<IPython.core.display.Javascript object>"
      ]
     },
     "metadata": {},
     "output_type": "display_data"
    }
   ],
   "source": [
    "%load_ext nb_black"
   ]
  },
  {
   "cell_type": "markdown",
   "id": "db09fa96",
   "metadata": {},
   "source": [
    "# Idée générale\n",
    "\n",
    "Il s'agit dans ce notebook de mettre en place l'idée de cet [issue](https://github.com/dataforgoodfr/offseason_missiontransition_simulateur/issues/8). \n",
    "\n",
    "Formellement, entraîner un modèle qui à un couple `(aid, company)` est en mesure de rendre un `score` entre 0 et 1 representant les chances de succès de la demande d'aide pour savoir à quel point il est pertinent de proposer précisément cette `aid` à cette `company`.\n",
    "\n",
    "# Préparation du dataset\n",
    "\n",
    "## Données ADEME\n",
    "Nous disposons d'un ensemble d'exemples de $n$ couples $\\mathcal{S} = \\{(a_i, c_i)\\} _{i\\leq n}$ qui ont fait l'objet d'une attribution de l'ADEME : pour tout $i\\leq n$, l'entreprise $c_i$ a reçu l'aide $a_i$ proposée par l'ADEME.\n",
    "\n",
    "Nous voulons créer un dataset labelisé, $\\mathcal{D} = \\{[(a_i, c_i), y_i]\\}_{i\\leq N}$ où $y_i$ représente les chances que l'entreprise $c_i$ obtienne (ou ait intérêt à obtenir) l'aide $a_i$.\n",
    "\n",
    "$\\mathcal{S}$ nous fournit un premier dataset avec des labels $y_i=1$, puisqu'il s'agit d'exemples où l'entreprise a effectivement obtenu l'aide en question.\n",
    "\n",
    "Pour avoir un dataset complet, il faudrait avoir des exemples de couples $(a_i, c_i)$, avec un score $y_i$ inférieur à 1. \n",
    "\n",
    "## Exploration du dataset"
   ]
  },
  {
   "cell_type": "code",
   "execution_count": 3,
   "id": "336e27d9",
   "metadata": {},
   "outputs": [
    {
     "data": {
      "application/javascript": [
       "\n",
       "            setTimeout(function() {\n",
       "                var nbb_cell_id = 3;\n",
       "                var nbb_unformatted_code = \"### Dataset preparation\\n\\naugmented_df = pd.read_csv(\\\"./data/augmented_dataset.csv\\\", sep=\\\";\\\")\";\n",
       "                var nbb_formatted_code = \"### Dataset preparation\\n\\naugmented_df = pd.read_csv(\\\"./data/augmented_dataset.csv\\\", sep=\\\";\\\")\";\n",
       "                var nbb_cells = Jupyter.notebook.get_cells();\n",
       "                for (var i = 0; i < nbb_cells.length; ++i) {\n",
       "                    if (nbb_cells[i].input_prompt_number == nbb_cell_id) {\n",
       "                        if (nbb_cells[i].get_text() == nbb_unformatted_code) {\n",
       "                             nbb_cells[i].set_text(nbb_formatted_code);\n",
       "                        }\n",
       "                        break;\n",
       "                    }\n",
       "                }\n",
       "            }, 500);\n",
       "            "
      ],
      "text/plain": [
       "<IPython.core.display.Javascript object>"
      ]
     },
     "metadata": {},
     "output_type": "display_data"
    }
   ],
   "source": [
    "### Dataset preparation\n",
    "\n",
    "augmented_df = pd.read_csv(\"./data/augmented_dataset.csv\", sep=\";\")"
   ]
  },
  {
   "cell_type": "code",
   "execution_count": 4,
   "id": "3d243c46",
   "metadata": {},
   "outputs": [
    {
     "name": "stdout",
     "output_type": "stream",
     "text": [
      "<class 'pandas.core.frame.DataFrame'>\n",
      "RangeIndex: 948 entries, 0 to 947\n",
      "Data columns (total 18 columns):\n",
      " #   Column                       Non-Null Count  Dtype  \n",
      "---  ------                       --------------  -----  \n",
      " 0   Unnamed: 0                   948 non-null    int64  \n",
      " 1   dateConvention_ademe         948 non-null    object \n",
      " 2   nomBeneficiaire_ademe        948 non-null    object \n",
      " 3   montant_ademe                948 non-null    float64\n",
      " 4   pourcentageSubvention_ademe  948 non-null    float64\n",
      " 5   DEPET_ademe                  942 non-null    object \n",
      " 6   naf1etlib_ademe              942 non-null    object \n",
      " 7   naf2etlib_ademe              942 non-null    object \n",
      " 8   naf3etlib_ademe              942 non-null    object \n",
      " 9   naf4etlib_ademe              942 non-null    object \n",
      " 10  naf5etlib_ademe              942 non-null    object \n",
      " 11  id_mt                        948 non-null    int64  \n",
      " 12  environmentalTopics_mt       948 non-null    object \n",
      " 13  fundingTypes_mt              948 non-null    object \n",
      " 14  subventionRateUpperBound_mt  348 non-null    float64\n",
      " 15  subventionRateLowerBound_mt  11 non-null     float64\n",
      " 16  applicationStartDate_mt      948 non-null    object \n",
      " 17  result                       948 non-null    int64  \n",
      "dtypes: float64(4), int64(3), object(11)\n",
      "memory usage: 133.4+ KB\n"
     ]
    },
    {
     "data": {
      "application/javascript": [
       "\n",
       "            setTimeout(function() {\n",
       "                var nbb_cell_id = 4;\n",
       "                var nbb_unformatted_code = \"augmented_df.info()\";\n",
       "                var nbb_formatted_code = \"augmented_df.info()\";\n",
       "                var nbb_cells = Jupyter.notebook.get_cells();\n",
       "                for (var i = 0; i < nbb_cells.length; ++i) {\n",
       "                    if (nbb_cells[i].input_prompt_number == nbb_cell_id) {\n",
       "                        if (nbb_cells[i].get_text() == nbb_unformatted_code) {\n",
       "                             nbb_cells[i].set_text(nbb_formatted_code);\n",
       "                        }\n",
       "                        break;\n",
       "                    }\n",
       "                }\n",
       "            }, 500);\n",
       "            "
      ],
      "text/plain": [
       "<IPython.core.display.Javascript object>"
      ]
     },
     "metadata": {},
     "output_type": "display_data"
    }
   ],
   "source": [
    "augmented_df.info()"
   ]
  },
  {
   "cell_type": "code",
   "execution_count": 5,
   "id": "81c17b82",
   "metadata": {},
   "outputs": [
    {
     "data": {
      "text/html": [
       "<div>\n",
       "<style scoped>\n",
       "    .dataframe tbody tr th:only-of-type {\n",
       "        vertical-align: middle;\n",
       "    }\n",
       "\n",
       "    .dataframe tbody tr th {\n",
       "        vertical-align: top;\n",
       "    }\n",
       "\n",
       "    .dataframe thead th {\n",
       "        text-align: right;\n",
       "    }\n",
       "</style>\n",
       "<table border=\"1\" class=\"dataframe\">\n",
       "  <thead>\n",
       "    <tr style=\"text-align: right;\">\n",
       "      <th></th>\n",
       "      <th>Unnamed: 0</th>\n",
       "      <th>dateConvention_ademe</th>\n",
       "      <th>nomBeneficiaire_ademe</th>\n",
       "      <th>montant_ademe</th>\n",
       "      <th>pourcentageSubvention_ademe</th>\n",
       "      <th>DEPET_ademe</th>\n",
       "      <th>naf1etlib_ademe</th>\n",
       "      <th>naf2etlib_ademe</th>\n",
       "      <th>naf3etlib_ademe</th>\n",
       "      <th>naf4etlib_ademe</th>\n",
       "      <th>naf5etlib_ademe</th>\n",
       "      <th>id_mt</th>\n",
       "      <th>environmentalTopics_mt</th>\n",
       "      <th>fundingTypes_mt</th>\n",
       "      <th>subventionRateUpperBound_mt</th>\n",
       "      <th>subventionRateLowerBound_mt</th>\n",
       "      <th>applicationStartDate_mt</th>\n",
       "      <th>result</th>\n",
       "    </tr>\n",
       "  </thead>\n",
       "  <tbody>\n",
       "    <tr>\n",
       "      <th>0</th>\n",
       "      <td>0</td>\n",
       "      <td>2021-04-12</td>\n",
       "      <td>CLEMENT SAS</td>\n",
       "      <td>6500.0</td>\n",
       "      <td>1.0</td>\n",
       "      <td>71</td>\n",
       "      <td>Industrie manufacturière</td>\n",
       "      <td>Fabrication de machines et équipements n.c.a.</td>\n",
       "      <td>Fabrication de machines de formage des métaux ...</td>\n",
       "      <td>Fabrication de machines de formage des métaux</td>\n",
       "      <td>Fabrication de machines-outils pour le travail...</td>\n",
       "      <td>44</td>\n",
       "      <td>[{'name': 'Achat &amp; location véhicules peu poll...</td>\n",
       "      <td>['Autre aide financière']</td>\n",
       "      <td>NaN</td>\n",
       "      <td>NaN</td>\n",
       "      <td>2021-11-09T15:42:49+00:00</td>\n",
       "      <td>1</td>\n",
       "    </tr>\n",
       "    <tr>\n",
       "      <th>1</th>\n",
       "      <td>1</td>\n",
       "      <td>2021-03-25</td>\n",
       "      <td>INDUSTRIE DOLOISE DE MICRO-MECANIQUE</td>\n",
       "      <td>12150.0</td>\n",
       "      <td>1.0</td>\n",
       "      <td>39</td>\n",
       "      <td>Industrie manufacturière</td>\n",
       "      <td>Fabrication de produits métalliques, à l'excep...</td>\n",
       "      <td>Traitement et revêtement des métaux ; usinage</td>\n",
       "      <td>Usinage</td>\n",
       "      <td>Mécanique industrielle</td>\n",
       "      <td>44</td>\n",
       "      <td>[{'name': 'Achat &amp; location véhicules peu poll...</td>\n",
       "      <td>['Autre aide financière']</td>\n",
       "      <td>NaN</td>\n",
       "      <td>NaN</td>\n",
       "      <td>2021-11-09T15:42:49+00:00</td>\n",
       "      <td>1</td>\n",
       "    </tr>\n",
       "    <tr>\n",
       "      <th>2</th>\n",
       "      <td>2</td>\n",
       "      <td>2021-03-23</td>\n",
       "      <td>TRANSDEV BFC SUD</td>\n",
       "      <td>16000.0</td>\n",
       "      <td>1.0</td>\n",
       "      <td>71</td>\n",
       "      <td>Transports et entreposage</td>\n",
       "      <td>Transports terrestres et transport par conduites</td>\n",
       "      <td>Autres transports terrestres de voyageurs</td>\n",
       "      <td>Autres transports terrestres de voyageurs n.c.a.</td>\n",
       "      <td>Transports routiers réguliers de voyageurs</td>\n",
       "      <td>44</td>\n",
       "      <td>[{'name': 'Achat &amp; location véhicules peu poll...</td>\n",
       "      <td>['Autre aide financière']</td>\n",
       "      <td>NaN</td>\n",
       "      <td>NaN</td>\n",
       "      <td>2021-11-09T15:42:49+00:00</td>\n",
       "      <td>1</td>\n",
       "    </tr>\n",
       "    <tr>\n",
       "      <th>3</th>\n",
       "      <td>3</td>\n",
       "      <td>2021-03-23</td>\n",
       "      <td>LOCA TRAVAUX EURL</td>\n",
       "      <td>16400.0</td>\n",
       "      <td>1.0</td>\n",
       "      <td>90</td>\n",
       "      <td>Activités de services administratifs et de sou...</td>\n",
       "      <td>Activités de location et location-bail</td>\n",
       "      <td>Location et location-bail d'autres machines, é...</td>\n",
       "      <td>Location et location-bail de machines et équip...</td>\n",
       "      <td>Location et location-bail de machines et équip...</td>\n",
       "      <td>44</td>\n",
       "      <td>[{'name': 'Achat &amp; location véhicules peu poll...</td>\n",
       "      <td>['Autre aide financière']</td>\n",
       "      <td>NaN</td>\n",
       "      <td>NaN</td>\n",
       "      <td>2021-11-09T15:42:49+00:00</td>\n",
       "      <td>1</td>\n",
       "    </tr>\n",
       "    <tr>\n",
       "      <th>4</th>\n",
       "      <td>4</td>\n",
       "      <td>2021-03-26</td>\n",
       "      <td>RODESCHINI SAS</td>\n",
       "      <td>21500.0</td>\n",
       "      <td>1.0</td>\n",
       "      <td>70</td>\n",
       "      <td>Construction</td>\n",
       "      <td>Travaux de construction spécialisés</td>\n",
       "      <td>Autres travaux de construction spécialisés</td>\n",
       "      <td>Autres travaux de construction spécialisés n.c.a.</td>\n",
       "      <td>Travaux de maçonnerie générale et gros œuvre d...</td>\n",
       "      <td>44</td>\n",
       "      <td>[{'name': 'Achat &amp; location véhicules peu poll...</td>\n",
       "      <td>['Autre aide financière']</td>\n",
       "      <td>NaN</td>\n",
       "      <td>NaN</td>\n",
       "      <td>2021-11-09T15:42:49+00:00</td>\n",
       "      <td>1</td>\n",
       "    </tr>\n",
       "  </tbody>\n",
       "</table>\n",
       "</div>"
      ],
      "text/plain": [
       "   Unnamed: 0 dateConvention_ademe                 nomBeneficiaire_ademe  \\\n",
       "0           0           2021-04-12                           CLEMENT SAS   \n",
       "1           1           2021-03-25  INDUSTRIE DOLOISE DE MICRO-MECANIQUE   \n",
       "2           2           2021-03-23                      TRANSDEV BFC SUD   \n",
       "3           3           2021-03-23                     LOCA TRAVAUX EURL   \n",
       "4           4           2021-03-26                        RODESCHINI SAS   \n",
       "\n",
       "   montant_ademe  pourcentageSubvention_ademe DEPET_ademe  \\\n",
       "0         6500.0                          1.0          71   \n",
       "1        12150.0                          1.0          39   \n",
       "2        16000.0                          1.0          71   \n",
       "3        16400.0                          1.0          90   \n",
       "4        21500.0                          1.0          70   \n",
       "\n",
       "                                     naf1etlib_ademe  \\\n",
       "0                           Industrie manufacturière   \n",
       "1                           Industrie manufacturière   \n",
       "2                          Transports et entreposage   \n",
       "3  Activités de services administratifs et de sou...   \n",
       "4                                       Construction   \n",
       "\n",
       "                                     naf2etlib_ademe  \\\n",
       "0      Fabrication de machines et équipements n.c.a.   \n",
       "1  Fabrication de produits métalliques, à l'excep...   \n",
       "2   Transports terrestres et transport par conduites   \n",
       "3             Activités de location et location-bail   \n",
       "4                Travaux de construction spécialisés   \n",
       "\n",
       "                                     naf3etlib_ademe  \\\n",
       "0  Fabrication de machines de formage des métaux ...   \n",
       "1      Traitement et revêtement des métaux ; usinage   \n",
       "2          Autres transports terrestres de voyageurs   \n",
       "3  Location et location-bail d'autres machines, é...   \n",
       "4         Autres travaux de construction spécialisés   \n",
       "\n",
       "                                     naf4etlib_ademe  \\\n",
       "0      Fabrication de machines de formage des métaux   \n",
       "1                                            Usinage   \n",
       "2   Autres transports terrestres de voyageurs n.c.a.   \n",
       "3  Location et location-bail de machines et équip...   \n",
       "4  Autres travaux de construction spécialisés n.c.a.   \n",
       "\n",
       "                                     naf5etlib_ademe  id_mt  \\\n",
       "0  Fabrication de machines-outils pour le travail...     44   \n",
       "1                             Mécanique industrielle     44   \n",
       "2         Transports routiers réguliers de voyageurs     44   \n",
       "3  Location et location-bail de machines et équip...     44   \n",
       "4  Travaux de maçonnerie générale et gros œuvre d...     44   \n",
       "\n",
       "                              environmentalTopics_mt  \\\n",
       "0  [{'name': 'Achat & location véhicules peu poll...   \n",
       "1  [{'name': 'Achat & location véhicules peu poll...   \n",
       "2  [{'name': 'Achat & location véhicules peu poll...   \n",
       "3  [{'name': 'Achat & location véhicules peu poll...   \n",
       "4  [{'name': 'Achat & location véhicules peu poll...   \n",
       "\n",
       "             fundingTypes_mt  subventionRateUpperBound_mt  \\\n",
       "0  ['Autre aide financière']                          NaN   \n",
       "1  ['Autre aide financière']                          NaN   \n",
       "2  ['Autre aide financière']                          NaN   \n",
       "3  ['Autre aide financière']                          NaN   \n",
       "4  ['Autre aide financière']                          NaN   \n",
       "\n",
       "   subventionRateLowerBound_mt    applicationStartDate_mt  result  \n",
       "0                          NaN  2021-11-09T15:42:49+00:00       1  \n",
       "1                          NaN  2021-11-09T15:42:49+00:00       1  \n",
       "2                          NaN  2021-11-09T15:42:49+00:00       1  \n",
       "3                          NaN  2021-11-09T15:42:49+00:00       1  \n",
       "4                          NaN  2021-11-09T15:42:49+00:00       1  "
      ]
     },
     "execution_count": 5,
     "metadata": {},
     "output_type": "execute_result"
    },
    {
     "data": {
      "application/javascript": [
       "\n",
       "            setTimeout(function() {\n",
       "                var nbb_cell_id = 5;\n",
       "                var nbb_unformatted_code = \"augmented_df.head()\";\n",
       "                var nbb_formatted_code = \"augmented_df.head()\";\n",
       "                var nbb_cells = Jupyter.notebook.get_cells();\n",
       "                for (var i = 0; i < nbb_cells.length; ++i) {\n",
       "                    if (nbb_cells[i].input_prompt_number == nbb_cell_id) {\n",
       "                        if (nbb_cells[i].get_text() == nbb_unformatted_code) {\n",
       "                             nbb_cells[i].set_text(nbb_formatted_code);\n",
       "                        }\n",
       "                        break;\n",
       "                    }\n",
       "                }\n",
       "            }, 500);\n",
       "            "
      ],
      "text/plain": [
       "<IPython.core.display.Javascript object>"
      ]
     },
     "metadata": {},
     "output_type": "display_data"
    }
   ],
   "source": [
    "augmented_df.head()"
   ]
  },
  {
   "cell_type": "markdown",
   "id": "19de95bd",
   "metadata": {},
   "source": [
    "On se propose trois niveaux de modélisation :\n",
    "1. Modélisation simple :\n",
    "\n",
    "Features : `naf`, `environmentalTopics`, `fundingType`\n",
    "\n",
    "2. Modélisation avec enrichissement par les données SIRENE :\n",
    "\n",
    "Features : `naf`, `companyCategory` (PME, ...), `workforceSize`, `environmentalTopics`, `fundingTypes`\n",
    "\n",
    "3. Modélisation fine avec NLP :\n",
    "\n",
    "- Récupération du topic modeling de l'équipe de tagging\n",
    "- (Ou) traitement NLP spécifique"
   ]
  },
  {
   "cell_type": "markdown",
   "id": "de920ed3",
   "metadata": {},
   "source": [
    "# Modélisation"
   ]
  },
  {
   "cell_type": "markdown",
   "id": "f964a3f7",
   "metadata": {},
   "source": [
    "## Modèle simple"
   ]
  },
  {
   "cell_type": "markdown",
   "id": "40a2256e",
   "metadata": {},
   "source": [
    "### Preprocessing\n",
    "#### Explo"
   ]
  },
  {
   "cell_type": "code",
   "execution_count": 6,
   "id": "2e65aaeb",
   "metadata": {},
   "outputs": [
    {
     "data": {
      "application/javascript": [
       "\n",
       "            setTimeout(function() {\n",
       "                var nbb_cell_id = 6;\n",
       "                var nbb_unformatted_code = \"df_1 = augmented_df.copy()\";\n",
       "                var nbb_formatted_code = \"df_1 = augmented_df.copy()\";\n",
       "                var nbb_cells = Jupyter.notebook.get_cells();\n",
       "                for (var i = 0; i < nbb_cells.length; ++i) {\n",
       "                    if (nbb_cells[i].input_prompt_number == nbb_cell_id) {\n",
       "                        if (nbb_cells[i].get_text() == nbb_unformatted_code) {\n",
       "                             nbb_cells[i].set_text(nbb_formatted_code);\n",
       "                        }\n",
       "                        break;\n",
       "                    }\n",
       "                }\n",
       "            }, 500);\n",
       "            "
      ],
      "text/plain": [
       "<IPython.core.display.Javascript object>"
      ]
     },
     "metadata": {},
     "output_type": "display_data"
    }
   ],
   "source": [
    "df_1 = augmented_df.copy()"
   ]
  },
  {
   "cell_type": "code",
   "execution_count": 7,
   "id": "d2d60a16",
   "metadata": {},
   "outputs": [
    {
     "data": {
      "application/javascript": [
       "\n",
       "            setTimeout(function() {\n",
       "                var nbb_cell_id = 7;\n",
       "                var nbb_unformatted_code = \"df_1 = df_1.dropna(axis=0, subset=[\\\"naf1etlib_ademe\\\", \\\"environmentalTopics_mt\\\", \\\"fundingTypes_mt\\\"])\";\n",
       "                var nbb_formatted_code = \"df_1 = df_1.dropna(\\n    axis=0, subset=[\\\"naf1etlib_ademe\\\", \\\"environmentalTopics_mt\\\", \\\"fundingTypes_mt\\\"]\\n)\";\n",
       "                var nbb_cells = Jupyter.notebook.get_cells();\n",
       "                for (var i = 0; i < nbb_cells.length; ++i) {\n",
       "                    if (nbb_cells[i].input_prompt_number == nbb_cell_id) {\n",
       "                        if (nbb_cells[i].get_text() == nbb_unformatted_code) {\n",
       "                             nbb_cells[i].set_text(nbb_formatted_code);\n",
       "                        }\n",
       "                        break;\n",
       "                    }\n",
       "                }\n",
       "            }, 500);\n",
       "            "
      ],
      "text/plain": [
       "<IPython.core.display.Javascript object>"
      ]
     },
     "metadata": {},
     "output_type": "display_data"
    }
   ],
   "source": [
    "df_1 = df_1.dropna(\n",
    "    axis=0, subset=[\"naf1etlib_ademe\", \"environmentalTopics_mt\", \"fundingTypes_mt\"]\n",
    ")"
   ]
  },
  {
   "cell_type": "code",
   "execution_count": 8,
   "id": "b9696212",
   "metadata": {},
   "outputs": [
    {
     "data": {
      "text/plain": [
       "18"
      ]
     },
     "execution_count": 8,
     "metadata": {},
     "output_type": "execute_result"
    },
    {
     "data": {
      "application/javascript": [
       "\n",
       "            setTimeout(function() {\n",
       "                var nbb_cell_id = 8;\n",
       "                var nbb_unformatted_code = \"len(df_1[\\\"naf1etlib_ademe\\\"].unique()) # To onehot\";\n",
       "                var nbb_formatted_code = \"len(df_1[\\\"naf1etlib_ademe\\\"].unique())  # To onehot\";\n",
       "                var nbb_cells = Jupyter.notebook.get_cells();\n",
       "                for (var i = 0; i < nbb_cells.length; ++i) {\n",
       "                    if (nbb_cells[i].input_prompt_number == nbb_cell_id) {\n",
       "                        if (nbb_cells[i].get_text() == nbb_unformatted_code) {\n",
       "                             nbb_cells[i].set_text(nbb_formatted_code);\n",
       "                        }\n",
       "                        break;\n",
       "                    }\n",
       "                }\n",
       "            }, 500);\n",
       "            "
      ],
      "text/plain": [
       "<IPython.core.display.Javascript object>"
      ]
     },
     "metadata": {},
     "output_type": "display_data"
    }
   ],
   "source": [
    "len(df_1[\"naf1etlib_ademe\"].unique())  # To onehot"
   ]
  },
  {
   "cell_type": "code",
   "execution_count": 9,
   "id": "86bc7d0f",
   "metadata": {},
   "outputs": [
    {
     "data": {
      "application/javascript": [
       "\n",
       "            setTimeout(function() {\n",
       "                var nbb_cell_id = 9;\n",
       "                var nbb_unformatted_code = \"def process_topics(topics): # Get only names\\n    output = set()\\n    for topic in eval(topics):\\n        output.add(topic[\\\"name\\\"])\\n    return output\\n\\ndf_1[\\\"environmentalTopics_mt\\\"] = df_1[\\\"environmentalTopics_mt\\\"].apply(process_topics) # To onehot\";\n",
       "                var nbb_formatted_code = \"def process_topics(topics):  # Get only names\\n    output = set()\\n    for topic in eval(topics):\\n        output.add(topic[\\\"name\\\"])\\n    return output\\n\\n\\ndf_1[\\\"environmentalTopics_mt\\\"] = df_1[\\\"environmentalTopics_mt\\\"].apply(\\n    process_topics\\n)  # To onehot\";\n",
       "                var nbb_cells = Jupyter.notebook.get_cells();\n",
       "                for (var i = 0; i < nbb_cells.length; ++i) {\n",
       "                    if (nbb_cells[i].input_prompt_number == nbb_cell_id) {\n",
       "                        if (nbb_cells[i].get_text() == nbb_unformatted_code) {\n",
       "                             nbb_cells[i].set_text(nbb_formatted_code);\n",
       "                        }\n",
       "                        break;\n",
       "                    }\n",
       "                }\n",
       "            }, 500);\n",
       "            "
      ],
      "text/plain": [
       "<IPython.core.display.Javascript object>"
      ]
     },
     "metadata": {},
     "output_type": "display_data"
    }
   ],
   "source": [
    "def process_topics(topics):  # Get only names\n",
    "    output = set()\n",
    "    for topic in eval(topics):\n",
    "        output.add(topic[\"name\"])\n",
    "    return output\n",
    "\n",
    "\n",
    "df_1[\"environmentalTopics_mt\"] = df_1[\"environmentalTopics_mt\"].apply(\n",
    "    process_topics\n",
    ")  # To onehot"
   ]
  },
  {
   "cell_type": "code",
   "execution_count": 10,
   "id": "bde56f94",
   "metadata": {},
   "outputs": [
    {
     "data": {
      "text/plain": [
       "1    928\n",
       "2     14\n",
       "Name: fundingTypes_mt, dtype: int64"
      ]
     },
     "execution_count": 10,
     "metadata": {},
     "output_type": "execute_result"
    },
    {
     "data": {
      "application/javascript": [
       "\n",
       "            setTimeout(function() {\n",
       "                var nbb_cell_id = 10;\n",
       "                var nbb_unformatted_code = \"df_1[\\\"fundingTypes_mt\\\"].apply(lambda x:len(eval(x))).value_counts() # Check if some rows have several funding types\";\n",
       "                var nbb_formatted_code = \"df_1[\\\"fundingTypes_mt\\\"].apply(\\n    lambda x: len(eval(x))\\n).value_counts()  # Check if some rows have several funding types\";\n",
       "                var nbb_cells = Jupyter.notebook.get_cells();\n",
       "                for (var i = 0; i < nbb_cells.length; ++i) {\n",
       "                    if (nbb_cells[i].input_prompt_number == nbb_cell_id) {\n",
       "                        if (nbb_cells[i].get_text() == nbb_unformatted_code) {\n",
       "                             nbb_cells[i].set_text(nbb_formatted_code);\n",
       "                        }\n",
       "                        break;\n",
       "                    }\n",
       "                }\n",
       "            }, 500);\n",
       "            "
      ],
      "text/plain": [
       "<IPython.core.display.Javascript object>"
      ]
     },
     "metadata": {},
     "output_type": "display_data"
    }
   ],
   "source": [
    "df_1[\"fundingTypes_mt\"].apply(\n",
    "    lambda x: len(eval(x))\n",
    ").value_counts()  # Check if some rows have several funding types"
   ]
  },
  {
   "cell_type": "code",
   "execution_count": 11,
   "id": "366e6a1f",
   "metadata": {},
   "outputs": [
    {
     "data": {
      "application/javascript": [
       "\n",
       "            setTimeout(function() {\n",
       "                var nbb_cell_id = 11;\n",
       "                var nbb_unformatted_code = \"df_1[\\\"fundingTypes_mt\\\"] = df_1[\\\"fundingTypes_mt\\\"].apply(eval)\";\n",
       "                var nbb_formatted_code = \"df_1[\\\"fundingTypes_mt\\\"] = df_1[\\\"fundingTypes_mt\\\"].apply(eval)\";\n",
       "                var nbb_cells = Jupyter.notebook.get_cells();\n",
       "                for (var i = 0; i < nbb_cells.length; ++i) {\n",
       "                    if (nbb_cells[i].input_prompt_number == nbb_cell_id) {\n",
       "                        if (nbb_cells[i].get_text() == nbb_unformatted_code) {\n",
       "                             nbb_cells[i].set_text(nbb_formatted_code);\n",
       "                        }\n",
       "                        break;\n",
       "                    }\n",
       "                }\n",
       "            }, 500);\n",
       "            "
      ],
      "text/plain": [
       "<IPython.core.display.Javascript object>"
      ]
     },
     "metadata": {},
     "output_type": "display_data"
    }
   ],
   "source": [
    "df_1[\"fundingTypes_mt\"] = df_1[\"fundingTypes_mt\"].apply(eval)"
   ]
  },
  {
   "cell_type": "markdown",
   "id": "9d61e739",
   "metadata": {},
   "source": [
    "#### Onehot encoding"
   ]
  },
  {
   "cell_type": "code",
   "execution_count": 12,
   "id": "822ace6a",
   "metadata": {},
   "outputs": [
    {
     "data": {
      "application/javascript": [
       "\n",
       "            setTimeout(function() {\n",
       "                var nbb_cell_id = 12;\n",
       "                var nbb_unformatted_code = \"from sklearn.preprocessing import OneHotEncoder, MultiLabelBinarizer\";\n",
       "                var nbb_formatted_code = \"from sklearn.preprocessing import OneHotEncoder, MultiLabelBinarizer\";\n",
       "                var nbb_cells = Jupyter.notebook.get_cells();\n",
       "                for (var i = 0; i < nbb_cells.length; ++i) {\n",
       "                    if (nbb_cells[i].input_prompt_number == nbb_cell_id) {\n",
       "                        if (nbb_cells[i].get_text() == nbb_unformatted_code) {\n",
       "                             nbb_cells[i].set_text(nbb_formatted_code);\n",
       "                        }\n",
       "                        break;\n",
       "                    }\n",
       "                }\n",
       "            }, 500);\n",
       "            "
      ],
      "text/plain": [
       "<IPython.core.display.Javascript object>"
      ]
     },
     "metadata": {},
     "output_type": "display_data"
    }
   ],
   "source": [
    "from sklearn.preprocessing import OneHotEncoder, MultiLabelBinarizer"
   ]
  },
  {
   "cell_type": "code",
   "execution_count": 13,
   "id": "8bd91c2a",
   "metadata": {},
   "outputs": [
    {
     "data": {
      "application/javascript": [
       "\n",
       "            setTimeout(function() {\n",
       "                var nbb_cell_id = 13;\n",
       "                var nbb_unformatted_code = \"encoder = OneHotEncoder(sparse=False)\\noutput = encoder.fit_transform(df_1[[\\\"naf1etlib_ademe\\\"]])\\nfor i, category in enumerate(encoder.categories_[0]):\\n    df_1[\\\"naf1etlib_ademe_\\\" + category] = list(output[:, i])\";\n",
       "                var nbb_formatted_code = \"encoder = OneHotEncoder(sparse=False)\\noutput = encoder.fit_transform(df_1[[\\\"naf1etlib_ademe\\\"]])\\nfor i, category in enumerate(encoder.categories_[0]):\\n    df_1[\\\"naf1etlib_ademe_\\\" + category] = list(output[:, i])\";\n",
       "                var nbb_cells = Jupyter.notebook.get_cells();\n",
       "                for (var i = 0; i < nbb_cells.length; ++i) {\n",
       "                    if (nbb_cells[i].input_prompt_number == nbb_cell_id) {\n",
       "                        if (nbb_cells[i].get_text() == nbb_unformatted_code) {\n",
       "                             nbb_cells[i].set_text(nbb_formatted_code);\n",
       "                        }\n",
       "                        break;\n",
       "                    }\n",
       "                }\n",
       "            }, 500);\n",
       "            "
      ],
      "text/plain": [
       "<IPython.core.display.Javascript object>"
      ]
     },
     "metadata": {},
     "output_type": "display_data"
    }
   ],
   "source": [
    "encoder = OneHotEncoder(sparse=False)\n",
    "output = encoder.fit_transform(df_1[[\"naf1etlib_ademe\"]])\n",
    "for i, category in enumerate(encoder.categories_[0]):\n",
    "    df_1[\"naf1etlib_ademe_\" + category] = list(output[:, i])"
   ]
  },
  {
   "cell_type": "code",
   "execution_count": 14,
   "id": "1aee1e58",
   "metadata": {},
   "outputs": [
    {
     "data": {
      "application/javascript": [
       "\n",
       "            setTimeout(function() {\n",
       "                var nbb_cell_id = 14;\n",
       "                var nbb_unformatted_code = \"mlb_topics = MultiLabelBinarizer()\\noutput = mlb_topics.fit_transform(df_1[\\\"environmentalTopics_mt\\\"])\\nfor i, topic in enumerate(mlb_topics.classes_):\\n    df_1[\\\"environmentalTopics_mt_\\\" + topic] = list(output[:, i])\";\n",
       "                var nbb_formatted_code = \"mlb_topics = MultiLabelBinarizer()\\noutput = mlb_topics.fit_transform(df_1[\\\"environmentalTopics_mt\\\"])\\nfor i, topic in enumerate(mlb_topics.classes_):\\n    df_1[\\\"environmentalTopics_mt_\\\" + topic] = list(output[:, i])\";\n",
       "                var nbb_cells = Jupyter.notebook.get_cells();\n",
       "                for (var i = 0; i < nbb_cells.length; ++i) {\n",
       "                    if (nbb_cells[i].input_prompt_number == nbb_cell_id) {\n",
       "                        if (nbb_cells[i].get_text() == nbb_unformatted_code) {\n",
       "                             nbb_cells[i].set_text(nbb_formatted_code);\n",
       "                        }\n",
       "                        break;\n",
       "                    }\n",
       "                }\n",
       "            }, 500);\n",
       "            "
      ],
      "text/plain": [
       "<IPython.core.display.Javascript object>"
      ]
     },
     "metadata": {},
     "output_type": "display_data"
    }
   ],
   "source": [
    "mlb_topics = MultiLabelBinarizer()\n",
    "output = mlb_topics.fit_transform(df_1[\"environmentalTopics_mt\"])\n",
    "for i, topic in enumerate(mlb_topics.classes_):\n",
    "    df_1[\"environmentalTopics_mt_\" + topic] = list(output[:, i])"
   ]
  },
  {
   "cell_type": "code",
   "execution_count": 15,
   "id": "6d0162ec",
   "metadata": {},
   "outputs": [
    {
     "data": {
      "application/javascript": [
       "\n",
       "            setTimeout(function() {\n",
       "                var nbb_cell_id = 15;\n",
       "                var nbb_unformatted_code = \"mlb_funding = MultiLabelBinarizer()\\noutput = mlb_funding.fit_transform(df_1[\\\"fundingTypes_mt\\\"])\\nfor i, funding in enumerate(mlb_funding.classes_):\\n    df_1[\\\"fundingTypes_mt_\\\" + funding] = list(output[:, i])\";\n",
       "                var nbb_formatted_code = \"mlb_funding = MultiLabelBinarizer()\\noutput = mlb_funding.fit_transform(df_1[\\\"fundingTypes_mt\\\"])\\nfor i, funding in enumerate(mlb_funding.classes_):\\n    df_1[\\\"fundingTypes_mt_\\\" + funding] = list(output[:, i])\";\n",
       "                var nbb_cells = Jupyter.notebook.get_cells();\n",
       "                for (var i = 0; i < nbb_cells.length; ++i) {\n",
       "                    if (nbb_cells[i].input_prompt_number == nbb_cell_id) {\n",
       "                        if (nbb_cells[i].get_text() == nbb_unformatted_code) {\n",
       "                             nbb_cells[i].set_text(nbb_formatted_code);\n",
       "                        }\n",
       "                        break;\n",
       "                    }\n",
       "                }\n",
       "            }, 500);\n",
       "            "
      ],
      "text/plain": [
       "<IPython.core.display.Javascript object>"
      ]
     },
     "metadata": {},
     "output_type": "display_data"
    }
   ],
   "source": [
    "mlb_funding = MultiLabelBinarizer()\n",
    "output = mlb_funding.fit_transform(df_1[\"fundingTypes_mt\"])\n",
    "for i, funding in enumerate(mlb_funding.classes_):\n",
    "    df_1[\"fundingTypes_mt_\" + funding] = list(output[:, i])"
   ]
  },
  {
   "cell_type": "code",
   "execution_count": 16,
   "id": "a64a0ac4",
   "metadata": {},
   "outputs": [
    {
     "data": {
      "text/html": [
       "<div>\n",
       "<style scoped>\n",
       "    .dataframe tbody tr th:only-of-type {\n",
       "        vertical-align: middle;\n",
       "    }\n",
       "\n",
       "    .dataframe tbody tr th {\n",
       "        vertical-align: top;\n",
       "    }\n",
       "\n",
       "    .dataframe thead th {\n",
       "        text-align: right;\n",
       "    }\n",
       "</style>\n",
       "<table border=\"1\" class=\"dataframe\">\n",
       "  <thead>\n",
       "    <tr style=\"text-align: right;\">\n",
       "      <th></th>\n",
       "      <th>Unnamed: 0</th>\n",
       "      <th>dateConvention_ademe</th>\n",
       "      <th>nomBeneficiaire_ademe</th>\n",
       "      <th>montant_ademe</th>\n",
       "      <th>pourcentageSubvention_ademe</th>\n",
       "      <th>DEPET_ademe</th>\n",
       "      <th>naf1etlib_ademe</th>\n",
       "      <th>naf2etlib_ademe</th>\n",
       "      <th>naf3etlib_ademe</th>\n",
       "      <th>naf4etlib_ademe</th>\n",
       "      <th>...</th>\n",
       "      <th>environmentalTopics_mt_Réduction de la consommation d'énergie</th>\n",
       "      <th>environmentalTopics_mt_Réduction des pollutions &amp; dépollution</th>\n",
       "      <th>environmentalTopics_mt_Réduction du gaspillage</th>\n",
       "      <th>environmentalTopics_mt_Réseaux de chaleur &amp; Récupération de chaleur</th>\n",
       "      <th>environmentalTopics_mt_Sensibilisation &amp; Formation</th>\n",
       "      <th>environmentalTopics_mt_Traitement &amp; valorisation des biodéchets</th>\n",
       "      <th>environmentalTopics_mt_Tri, recyclage, réemploi &amp; réparation</th>\n",
       "      <th>fundingTypes_mt_Autre aide financière</th>\n",
       "      <th>fundingTypes_mt_Ingénierie technique</th>\n",
       "      <th>fundingTypes_mt_Subvention</th>\n",
       "    </tr>\n",
       "  </thead>\n",
       "  <tbody>\n",
       "    <tr>\n",
       "      <th>0</th>\n",
       "      <td>0</td>\n",
       "      <td>2021-04-12</td>\n",
       "      <td>CLEMENT SAS</td>\n",
       "      <td>6500.0</td>\n",
       "      <td>1.0</td>\n",
       "      <td>71</td>\n",
       "      <td>Industrie manufacturière</td>\n",
       "      <td>Fabrication de machines et équipements n.c.a.</td>\n",
       "      <td>Fabrication de machines de formage des métaux ...</td>\n",
       "      <td>Fabrication de machines de formage des métaux</td>\n",
       "      <td>...</td>\n",
       "      <td>0</td>\n",
       "      <td>1</td>\n",
       "      <td>1</td>\n",
       "      <td>0</td>\n",
       "      <td>1</td>\n",
       "      <td>1</td>\n",
       "      <td>1</td>\n",
       "      <td>1</td>\n",
       "      <td>0</td>\n",
       "      <td>0</td>\n",
       "    </tr>\n",
       "    <tr>\n",
       "      <th>1</th>\n",
       "      <td>1</td>\n",
       "      <td>2021-03-25</td>\n",
       "      <td>INDUSTRIE DOLOISE DE MICRO-MECANIQUE</td>\n",
       "      <td>12150.0</td>\n",
       "      <td>1.0</td>\n",
       "      <td>39</td>\n",
       "      <td>Industrie manufacturière</td>\n",
       "      <td>Fabrication de produits métalliques, à l'excep...</td>\n",
       "      <td>Traitement et revêtement des métaux ; usinage</td>\n",
       "      <td>Usinage</td>\n",
       "      <td>...</td>\n",
       "      <td>0</td>\n",
       "      <td>1</td>\n",
       "      <td>1</td>\n",
       "      <td>0</td>\n",
       "      <td>1</td>\n",
       "      <td>1</td>\n",
       "      <td>1</td>\n",
       "      <td>1</td>\n",
       "      <td>0</td>\n",
       "      <td>0</td>\n",
       "    </tr>\n",
       "    <tr>\n",
       "      <th>2</th>\n",
       "      <td>2</td>\n",
       "      <td>2021-03-23</td>\n",
       "      <td>TRANSDEV BFC SUD</td>\n",
       "      <td>16000.0</td>\n",
       "      <td>1.0</td>\n",
       "      <td>71</td>\n",
       "      <td>Transports et entreposage</td>\n",
       "      <td>Transports terrestres et transport par conduites</td>\n",
       "      <td>Autres transports terrestres de voyageurs</td>\n",
       "      <td>Autres transports terrestres de voyageurs n.c.a.</td>\n",
       "      <td>...</td>\n",
       "      <td>0</td>\n",
       "      <td>1</td>\n",
       "      <td>1</td>\n",
       "      <td>0</td>\n",
       "      <td>1</td>\n",
       "      <td>1</td>\n",
       "      <td>1</td>\n",
       "      <td>1</td>\n",
       "      <td>0</td>\n",
       "      <td>0</td>\n",
       "    </tr>\n",
       "    <tr>\n",
       "      <th>3</th>\n",
       "      <td>3</td>\n",
       "      <td>2021-03-23</td>\n",
       "      <td>LOCA TRAVAUX EURL</td>\n",
       "      <td>16400.0</td>\n",
       "      <td>1.0</td>\n",
       "      <td>90</td>\n",
       "      <td>Activités de services administratifs et de sou...</td>\n",
       "      <td>Activités de location et location-bail</td>\n",
       "      <td>Location et location-bail d'autres machines, é...</td>\n",
       "      <td>Location et location-bail de machines et équip...</td>\n",
       "      <td>...</td>\n",
       "      <td>0</td>\n",
       "      <td>1</td>\n",
       "      <td>1</td>\n",
       "      <td>0</td>\n",
       "      <td>1</td>\n",
       "      <td>1</td>\n",
       "      <td>1</td>\n",
       "      <td>1</td>\n",
       "      <td>0</td>\n",
       "      <td>0</td>\n",
       "    </tr>\n",
       "    <tr>\n",
       "      <th>4</th>\n",
       "      <td>4</td>\n",
       "      <td>2021-03-26</td>\n",
       "      <td>RODESCHINI SAS</td>\n",
       "      <td>21500.0</td>\n",
       "      <td>1.0</td>\n",
       "      <td>70</td>\n",
       "      <td>Construction</td>\n",
       "      <td>Travaux de construction spécialisés</td>\n",
       "      <td>Autres travaux de construction spécialisés</td>\n",
       "      <td>Autres travaux de construction spécialisés n.c.a.</td>\n",
       "      <td>...</td>\n",
       "      <td>0</td>\n",
       "      <td>1</td>\n",
       "      <td>1</td>\n",
       "      <td>0</td>\n",
       "      <td>1</td>\n",
       "      <td>1</td>\n",
       "      <td>1</td>\n",
       "      <td>1</td>\n",
       "      <td>0</td>\n",
       "      <td>0</td>\n",
       "    </tr>\n",
       "  </tbody>\n",
       "</table>\n",
       "<p>5 rows × 54 columns</p>\n",
       "</div>"
      ],
      "text/plain": [
       "   Unnamed: 0 dateConvention_ademe                 nomBeneficiaire_ademe  \\\n",
       "0           0           2021-04-12                           CLEMENT SAS   \n",
       "1           1           2021-03-25  INDUSTRIE DOLOISE DE MICRO-MECANIQUE   \n",
       "2           2           2021-03-23                      TRANSDEV BFC SUD   \n",
       "3           3           2021-03-23                     LOCA TRAVAUX EURL   \n",
       "4           4           2021-03-26                        RODESCHINI SAS   \n",
       "\n",
       "   montant_ademe  pourcentageSubvention_ademe DEPET_ademe  \\\n",
       "0         6500.0                          1.0          71   \n",
       "1        12150.0                          1.0          39   \n",
       "2        16000.0                          1.0          71   \n",
       "3        16400.0                          1.0          90   \n",
       "4        21500.0                          1.0          70   \n",
       "\n",
       "                                     naf1etlib_ademe  \\\n",
       "0                           Industrie manufacturière   \n",
       "1                           Industrie manufacturière   \n",
       "2                          Transports et entreposage   \n",
       "3  Activités de services administratifs et de sou...   \n",
       "4                                       Construction   \n",
       "\n",
       "                                     naf2etlib_ademe  \\\n",
       "0      Fabrication de machines et équipements n.c.a.   \n",
       "1  Fabrication de produits métalliques, à l'excep...   \n",
       "2   Transports terrestres et transport par conduites   \n",
       "3             Activités de location et location-bail   \n",
       "4                Travaux de construction spécialisés   \n",
       "\n",
       "                                     naf3etlib_ademe  \\\n",
       "0  Fabrication de machines de formage des métaux ...   \n",
       "1      Traitement et revêtement des métaux ; usinage   \n",
       "2          Autres transports terrestres de voyageurs   \n",
       "3  Location et location-bail d'autres machines, é...   \n",
       "4         Autres travaux de construction spécialisés   \n",
       "\n",
       "                                     naf4etlib_ademe  ...  \\\n",
       "0      Fabrication de machines de formage des métaux  ...   \n",
       "1                                            Usinage  ...   \n",
       "2   Autres transports terrestres de voyageurs n.c.a.  ...   \n",
       "3  Location et location-bail de machines et équip...  ...   \n",
       "4  Autres travaux de construction spécialisés n.c.a.  ...   \n",
       "\n",
       "  environmentalTopics_mt_Réduction de la consommation d'énergie  \\\n",
       "0                                                  0              \n",
       "1                                                  0              \n",
       "2                                                  0              \n",
       "3                                                  0              \n",
       "4                                                  0              \n",
       "\n",
       "   environmentalTopics_mt_Réduction des pollutions & dépollution  \\\n",
       "0                                                  1               \n",
       "1                                                  1               \n",
       "2                                                  1               \n",
       "3                                                  1               \n",
       "4                                                  1               \n",
       "\n",
       "  environmentalTopics_mt_Réduction du gaspillage  \\\n",
       "0                                              1   \n",
       "1                                              1   \n",
       "2                                              1   \n",
       "3                                              1   \n",
       "4                                              1   \n",
       "\n",
       "  environmentalTopics_mt_Réseaux de chaleur & Récupération de chaleur  \\\n",
       "0                                                  0                    \n",
       "1                                                  0                    \n",
       "2                                                  0                    \n",
       "3                                                  0                    \n",
       "4                                                  0                    \n",
       "\n",
       "   environmentalTopics_mt_Sensibilisation & Formation  \\\n",
       "0                                                  1    \n",
       "1                                                  1    \n",
       "2                                                  1    \n",
       "3                                                  1    \n",
       "4                                                  1    \n",
       "\n",
       "   environmentalTopics_mt_Traitement & valorisation des biodéchets  \\\n",
       "0                                                  1                 \n",
       "1                                                  1                 \n",
       "2                                                  1                 \n",
       "3                                                  1                 \n",
       "4                                                  1                 \n",
       "\n",
       "  environmentalTopics_mt_Tri, recyclage, réemploi & réparation  \\\n",
       "0                                                  1             \n",
       "1                                                  1             \n",
       "2                                                  1             \n",
       "3                                                  1             \n",
       "4                                                  1             \n",
       "\n",
       "   fundingTypes_mt_Autre aide financière  \\\n",
       "0                                      1   \n",
       "1                                      1   \n",
       "2                                      1   \n",
       "3                                      1   \n",
       "4                                      1   \n",
       "\n",
       "   fundingTypes_mt_Ingénierie technique  fundingTypes_mt_Subvention  \n",
       "0                                     0                           0  \n",
       "1                                     0                           0  \n",
       "2                                     0                           0  \n",
       "3                                     0                           0  \n",
       "4                                     0                           0  \n",
       "\n",
       "[5 rows x 54 columns]"
      ]
     },
     "execution_count": 16,
     "metadata": {},
     "output_type": "execute_result"
    },
    {
     "data": {
      "application/javascript": [
       "\n",
       "            setTimeout(function() {\n",
       "                var nbb_cell_id = 16;\n",
       "                var nbb_unformatted_code = \"df_1.head()\";\n",
       "                var nbb_formatted_code = \"df_1.head()\";\n",
       "                var nbb_cells = Jupyter.notebook.get_cells();\n",
       "                for (var i = 0; i < nbb_cells.length; ++i) {\n",
       "                    if (nbb_cells[i].input_prompt_number == nbb_cell_id) {\n",
       "                        if (nbb_cells[i].get_text() == nbb_unformatted_code) {\n",
       "                             nbb_cells[i].set_text(nbb_formatted_code);\n",
       "                        }\n",
       "                        break;\n",
       "                    }\n",
       "                }\n",
       "            }, 500);\n",
       "            "
      ],
      "text/plain": [
       "<IPython.core.display.Javascript object>"
      ]
     },
     "metadata": {},
     "output_type": "display_data"
    }
   ],
   "source": [
    "df_1.head()"
   ]
  },
  {
   "cell_type": "code",
   "execution_count": 17,
   "id": "18dda74d",
   "metadata": {},
   "outputs": [
    {
     "data": {
      "text/plain": [
       "Index(['Unnamed: 0', 'dateConvention_ademe', 'nomBeneficiaire_ademe',\n",
       "       'montant_ademe', 'pourcentageSubvention_ademe', 'DEPET_ademe',\n",
       "       'naf1etlib_ademe', 'naf2etlib_ademe', 'naf3etlib_ademe',\n",
       "       'naf4etlib_ademe', 'naf5etlib_ademe', 'id_mt', 'environmentalTopics_mt',\n",
       "       'fundingTypes_mt', 'subventionRateUpperBound_mt',\n",
       "       'subventionRateLowerBound_mt', 'applicationStartDate_mt', 'result',\n",
       "       'naf1etlib_ademe_Activités de services administratifs et de soutien',\n",
       "       'naf1etlib_ademe_Activités financières et d'assurance',\n",
       "       'naf1etlib_ademe_Activités immobilières',\n",
       "       'naf1etlib_ademe_Activités spécialisées, scientifiques et techniques',\n",
       "       'naf1etlib_ademe_Administration publique',\n",
       "       'naf1etlib_ademe_Agriculture, sylviculture et pêche',\n",
       "       'naf1etlib_ademe_Arts, spectacles et activités récréatives',\n",
       "       'naf1etlib_ademe_Autres activités de services',\n",
       "       'naf1etlib_ademe_Commerce ; réparation d'automobiles et de motocycles',\n",
       "       'naf1etlib_ademe_Construction', 'naf1etlib_ademe_Enseignement',\n",
       "       'naf1etlib_ademe_Hébergement et restauration',\n",
       "       'naf1etlib_ademe_Industrie manufacturière',\n",
       "       'naf1etlib_ademe_Information et communication',\n",
       "       'naf1etlib_ademe_Production et distribution d'eau ; assainissement, gestion des déchets et dépollution',\n",
       "       'naf1etlib_ademe_Production et distribution d'électricité, de gaz, de vapeur et d'air conditionné',\n",
       "       'naf1etlib_ademe_Santé humaine et action sociale',\n",
       "       'naf1etlib_ademe_Transports et entreposage',\n",
       "       'environmentalTopics_mt_Achat & location véhicules peu polluants',\n",
       "       'environmentalTopics_mt_Aide au recrutement',\n",
       "       'environmentalTopics_mt_Bilan énergétique & Rénovation',\n",
       "       'environmentalTopics_mt_Démarche écoconception',\n",
       "       'environmentalTopics_mt_Développement de filières recyclage',\n",
       "       'environmentalTopics_mt_Energies Renouvelables',\n",
       "       'environmentalTopics_mt_Performance environnementale de l'alimentation',\n",
       "       'environmentalTopics_mt_Réduction de l'empreinte carbone',\n",
       "       'environmentalTopics_mt_Réduction de la consommation d'énergie',\n",
       "       'environmentalTopics_mt_Réduction des pollutions & dépollution',\n",
       "       'environmentalTopics_mt_Réduction du gaspillage',\n",
       "       'environmentalTopics_mt_Réseaux de chaleur & Récupération de chaleur',\n",
       "       'environmentalTopics_mt_Sensibilisation & Formation',\n",
       "       'environmentalTopics_mt_Traitement & valorisation des biodéchets',\n",
       "       'environmentalTopics_mt_Tri, recyclage, réemploi & réparation',\n",
       "       'fundingTypes_mt_Autre aide financière',\n",
       "       'fundingTypes_mt_Ingénierie technique', 'fundingTypes_mt_Subvention'],\n",
       "      dtype='object')"
      ]
     },
     "execution_count": 17,
     "metadata": {},
     "output_type": "execute_result"
    },
    {
     "data": {
      "application/javascript": [
       "\n",
       "            setTimeout(function() {\n",
       "                var nbb_cell_id = 17;\n",
       "                var nbb_unformatted_code = \"df_1.columns\";\n",
       "                var nbb_formatted_code = \"df_1.columns\";\n",
       "                var nbb_cells = Jupyter.notebook.get_cells();\n",
       "                for (var i = 0; i < nbb_cells.length; ++i) {\n",
       "                    if (nbb_cells[i].input_prompt_number == nbb_cell_id) {\n",
       "                        if (nbb_cells[i].get_text() == nbb_unformatted_code) {\n",
       "                             nbb_cells[i].set_text(nbb_formatted_code);\n",
       "                        }\n",
       "                        break;\n",
       "                    }\n",
       "                }\n",
       "            }, 500);\n",
       "            "
      ],
      "text/plain": [
       "<IPython.core.display.Javascript object>"
      ]
     },
     "metadata": {},
     "output_type": "display_data"
    }
   ],
   "source": [
    "df_1.columns"
   ]
  },
  {
   "cell_type": "code",
   "execution_count": 18,
   "id": "518032a2",
   "metadata": {},
   "outputs": [
    {
     "data": {
      "application/javascript": [
       "\n",
       "            setTimeout(function() {\n",
       "                var nbb_cell_id = 18;\n",
       "                var nbb_unformatted_code = \"df_1 = df_1.iloc[:, 17:]\";\n",
       "                var nbb_formatted_code = \"df_1 = df_1.iloc[:, 17:]\";\n",
       "                var nbb_cells = Jupyter.notebook.get_cells();\n",
       "                for (var i = 0; i < nbb_cells.length; ++i) {\n",
       "                    if (nbb_cells[i].input_prompt_number == nbb_cell_id) {\n",
       "                        if (nbb_cells[i].get_text() == nbb_unformatted_code) {\n",
       "                             nbb_cells[i].set_text(nbb_formatted_code);\n",
       "                        }\n",
       "                        break;\n",
       "                    }\n",
       "                }\n",
       "            }, 500);\n",
       "            "
      ],
      "text/plain": [
       "<IPython.core.display.Javascript object>"
      ]
     },
     "metadata": {},
     "output_type": "display_data"
    }
   ],
   "source": [
    "df_1 = df_1.iloc[:, 17:]"
   ]
  },
  {
   "cell_type": "markdown",
   "id": "6af108e0",
   "metadata": {},
   "source": [
    "### Modeling\n",
    "\n",
    "We will first try a classical Logistic Regression"
   ]
  },
  {
   "cell_type": "markdown",
   "id": "1c04c864",
   "metadata": {},
   "source": [
    "#### Logistic Regression"
   ]
  },
  {
   "cell_type": "code",
   "execution_count": 19,
   "id": "70d6feb5",
   "metadata": {},
   "outputs": [
    {
     "data": {
      "application/javascript": [
       "\n",
       "            setTimeout(function() {\n",
       "                var nbb_cell_id = 19;\n",
       "                var nbb_unformatted_code = \"X, y = df_1.iloc[:, 1:], df_1.iloc[:, 0]\";\n",
       "                var nbb_formatted_code = \"X, y = df_1.iloc[:, 1:], df_1.iloc[:, 0]\";\n",
       "                var nbb_cells = Jupyter.notebook.get_cells();\n",
       "                for (var i = 0; i < nbb_cells.length; ++i) {\n",
       "                    if (nbb_cells[i].input_prompt_number == nbb_cell_id) {\n",
       "                        if (nbb_cells[i].get_text() == nbb_unformatted_code) {\n",
       "                             nbb_cells[i].set_text(nbb_formatted_code);\n",
       "                        }\n",
       "                        break;\n",
       "                    }\n",
       "                }\n",
       "            }, 500);\n",
       "            "
      ],
      "text/plain": [
       "<IPython.core.display.Javascript object>"
      ]
     },
     "metadata": {},
     "output_type": "display_data"
    }
   ],
   "source": [
    "X, y = df_1.iloc[:, 1:], df_1.iloc[:, 0]"
   ]
  },
  {
   "cell_type": "code",
   "execution_count": 20,
   "id": "3b255471",
   "metadata": {},
   "outputs": [
    {
     "data": {
      "application/javascript": [
       "\n",
       "            setTimeout(function() {\n",
       "                var nbb_cell_id = 20;\n",
       "                var nbb_unformatted_code = \"from sklearn.model_selection import train_test_split\\nX_train, X_test, y_train, y_test = train_test_split(X, y, test_size=0.2, random_state=42)\";\n",
       "                var nbb_formatted_code = \"from sklearn.model_selection import train_test_split\\n\\nX_train, X_test, y_train, y_test = train_test_split(\\n    X, y, test_size=0.2, random_state=42\\n)\";\n",
       "                var nbb_cells = Jupyter.notebook.get_cells();\n",
       "                for (var i = 0; i < nbb_cells.length; ++i) {\n",
       "                    if (nbb_cells[i].input_prompt_number == nbb_cell_id) {\n",
       "                        if (nbb_cells[i].get_text() == nbb_unformatted_code) {\n",
       "                             nbb_cells[i].set_text(nbb_formatted_code);\n",
       "                        }\n",
       "                        break;\n",
       "                    }\n",
       "                }\n",
       "            }, 500);\n",
       "            "
      ],
      "text/plain": [
       "<IPython.core.display.Javascript object>"
      ]
     },
     "metadata": {},
     "output_type": "display_data"
    }
   ],
   "source": [
    "from sklearn.model_selection import train_test_split\n",
    "\n",
    "X_train, X_test, y_train, y_test = train_test_split(\n",
    "    X, y, test_size=0.2, random_state=42\n",
    ")"
   ]
  },
  {
   "cell_type": "code",
   "execution_count": 21,
   "id": "b0017840",
   "metadata": {},
   "outputs": [
    {
     "data": {
      "text/plain": [
       "LogisticRegressionCV(max_iter=1000, random_state=42)"
      ]
     },
     "execution_count": 21,
     "metadata": {},
     "output_type": "execute_result"
    },
    {
     "data": {
      "application/javascript": [
       "\n",
       "            setTimeout(function() {\n",
       "                var nbb_cell_id = 21;\n",
       "                var nbb_unformatted_code = \"from sklearn.linear_model import LogisticRegressionCV\\n\\nlogisticRegressionModel = LogisticRegressionCV(max_iter=1000, random_state=42)\\nlogisticRegressionModel.fit(X_train, y_train)\";\n",
       "                var nbb_formatted_code = \"from sklearn.linear_model import LogisticRegressionCV\\n\\nlogisticRegressionModel = LogisticRegressionCV(max_iter=1000, random_state=42)\\nlogisticRegressionModel.fit(X_train, y_train)\";\n",
       "                var nbb_cells = Jupyter.notebook.get_cells();\n",
       "                for (var i = 0; i < nbb_cells.length; ++i) {\n",
       "                    if (nbb_cells[i].input_prompt_number == nbb_cell_id) {\n",
       "                        if (nbb_cells[i].get_text() == nbb_unformatted_code) {\n",
       "                             nbb_cells[i].set_text(nbb_formatted_code);\n",
       "                        }\n",
       "                        break;\n",
       "                    }\n",
       "                }\n",
       "            }, 500);\n",
       "            "
      ],
      "text/plain": [
       "<IPython.core.display.Javascript object>"
      ]
     },
     "metadata": {},
     "output_type": "display_data"
    }
   ],
   "source": [
    "from sklearn.linear_model import LogisticRegressionCV\n",
    "\n",
    "logisticRegressionModel = LogisticRegressionCV(max_iter=1000, random_state=42)\n",
    "logisticRegressionModel.fit(X_train, y_train)"
   ]
  },
  {
   "cell_type": "code",
   "execution_count": 22,
   "id": "a5f0413a",
   "metadata": {},
   "outputs": [
    {
     "data": {
      "application/javascript": [
       "\n",
       "            setTimeout(function() {\n",
       "                var nbb_cell_id = 22;\n",
       "                var nbb_unformatted_code = \"from sklearn.metrics import accuracy_score, precision_score, recall_score, f1_score\";\n",
       "                var nbb_formatted_code = \"from sklearn.metrics import accuracy_score, precision_score, recall_score, f1_score\";\n",
       "                var nbb_cells = Jupyter.notebook.get_cells();\n",
       "                for (var i = 0; i < nbb_cells.length; ++i) {\n",
       "                    if (nbb_cells[i].input_prompt_number == nbb_cell_id) {\n",
       "                        if (nbb_cells[i].get_text() == nbb_unformatted_code) {\n",
       "                             nbb_cells[i].set_text(nbb_formatted_code);\n",
       "                        }\n",
       "                        break;\n",
       "                    }\n",
       "                }\n",
       "            }, 500);\n",
       "            "
      ],
      "text/plain": [
       "<IPython.core.display.Javascript object>"
      ]
     },
     "metadata": {},
     "output_type": "display_data"
    }
   ],
   "source": [
    "from sklearn.metrics import accuracy_score, precision_score, recall_score, f1_score"
   ]
  },
  {
   "cell_type": "code",
   "execution_count": 23,
   "id": "7750373c",
   "metadata": {},
   "outputs": [
    {
     "data": {
      "application/javascript": [
       "\n",
       "            setTimeout(function() {\n",
       "                var nbb_cell_id = 23;\n",
       "                var nbb_unformatted_code = \"def save_metrics(model, X, y):\\n    return dict(\\n        accuracy = accuracy_score(y, model.predict(X) > 0.5), \\n        precision = precision_score(y, model.predict(X) > 0.5), \\n        recall = recall_score(y, model.predict(X) > 0.5), \\n        f1 = f1_score(y, model.predict(X) > 0.5)\\n    )\\n\\ndef evaluate_model(metrics):\\n    for metric in metrics:\\n        print(f\\\"{metric} : {metrics[metric]:.4f}\\\")\";\n",
       "                var nbb_formatted_code = \"def save_metrics(model, X, y):\\n    return dict(\\n        accuracy=accuracy_score(y, model.predict(X) > 0.5),\\n        precision=precision_score(y, model.predict(X) > 0.5),\\n        recall=recall_score(y, model.predict(X) > 0.5),\\n        f1=f1_score(y, model.predict(X) > 0.5),\\n    )\\n\\n\\ndef evaluate_model(metrics):\\n    for metric in metrics:\\n        print(f\\\"{metric} : {metrics[metric]:.4f}\\\")\";\n",
       "                var nbb_cells = Jupyter.notebook.get_cells();\n",
       "                for (var i = 0; i < nbb_cells.length; ++i) {\n",
       "                    if (nbb_cells[i].input_prompt_number == nbb_cell_id) {\n",
       "                        if (nbb_cells[i].get_text() == nbb_unformatted_code) {\n",
       "                             nbb_cells[i].set_text(nbb_formatted_code);\n",
       "                        }\n",
       "                        break;\n",
       "                    }\n",
       "                }\n",
       "            }, 500);\n",
       "            "
      ],
      "text/plain": [
       "<IPython.core.display.Javascript object>"
      ]
     },
     "metadata": {},
     "output_type": "display_data"
    }
   ],
   "source": [
    "def save_metrics(model, X, y):\n",
    "    return dict(\n",
    "        accuracy=accuracy_score(y, model.predict(X) > 0.5),\n",
    "        precision=precision_score(y, model.predict(X) > 0.5),\n",
    "        recall=recall_score(y, model.predict(X) > 0.5),\n",
    "        f1=f1_score(y, model.predict(X) > 0.5),\n",
    "    )\n",
    "\n",
    "\n",
    "def evaluate_model(metrics):\n",
    "    for metric in metrics:\n",
    "        print(f\"{metric} : {metrics[metric]:.4f}\")"
   ]
  },
  {
   "cell_type": "code",
   "execution_count": 24,
   "id": "a61f5b4e",
   "metadata": {},
   "outputs": [
    {
     "name": "stdout",
     "output_type": "stream",
     "text": [
      "Train scores:\n",
      "accuracy : 0.5471\n",
      "precision : 0.5872\n",
      "recall : 0.3613\n",
      "f1 : 0.4473\n"
     ]
    },
    {
     "data": {
      "application/javascript": [
       "\n",
       "            setTimeout(function() {\n",
       "                var nbb_cell_id = 24;\n",
       "                var nbb_unformatted_code = \"print(\\\"Train scores:\\\")\\ntrain_lrm_metrics = save_metrics(logisticRegressionModel, X_train, y_train)\\nevaluate_model(train_lrm_metrics)\";\n",
       "                var nbb_formatted_code = \"print(\\\"Train scores:\\\")\\ntrain_lrm_metrics = save_metrics(logisticRegressionModel, X_train, y_train)\\nevaluate_model(train_lrm_metrics)\";\n",
       "                var nbb_cells = Jupyter.notebook.get_cells();\n",
       "                for (var i = 0; i < nbb_cells.length; ++i) {\n",
       "                    if (nbb_cells[i].input_prompt_number == nbb_cell_id) {\n",
       "                        if (nbb_cells[i].get_text() == nbb_unformatted_code) {\n",
       "                             nbb_cells[i].set_text(nbb_formatted_code);\n",
       "                        }\n",
       "                        break;\n",
       "                    }\n",
       "                }\n",
       "            }, 500);\n",
       "            "
      ],
      "text/plain": [
       "<IPython.core.display.Javascript object>"
      ]
     },
     "metadata": {},
     "output_type": "display_data"
    }
   ],
   "source": [
    "print(\"Train scores:\")\n",
    "train_lrm_metrics = save_metrics(logisticRegressionModel, X_train, y_train)\n",
    "evaluate_model(train_lrm_metrics)"
   ]
  },
  {
   "cell_type": "code",
   "execution_count": 25,
   "id": "0bd1f062",
   "metadata": {},
   "outputs": [
    {
     "name": "stdout",
     "output_type": "stream",
     "text": [
      "Test scores:\n",
      "accuracy : 0.5714\n",
      "precision : 0.5714\n",
      "recall : 0.3596\n",
      "f1 : 0.4414\n"
     ]
    },
    {
     "data": {
      "application/javascript": [
       "\n",
       "            setTimeout(function() {\n",
       "                var nbb_cell_id = 25;\n",
       "                var nbb_unformatted_code = \"print(\\\"Test scores:\\\")\\ntest_lrm_metrics = save_metrics(logisticRegressionModel, X_test, y_test)\\nevaluate_model(test_lrm_metrics)\";\n",
       "                var nbb_formatted_code = \"print(\\\"Test scores:\\\")\\ntest_lrm_metrics = save_metrics(logisticRegressionModel, X_test, y_test)\\nevaluate_model(test_lrm_metrics)\";\n",
       "                var nbb_cells = Jupyter.notebook.get_cells();\n",
       "                for (var i = 0; i < nbb_cells.length; ++i) {\n",
       "                    if (nbb_cells[i].input_prompt_number == nbb_cell_id) {\n",
       "                        if (nbb_cells[i].get_text() == nbb_unformatted_code) {\n",
       "                             nbb_cells[i].set_text(nbb_formatted_code);\n",
       "                        }\n",
       "                        break;\n",
       "                    }\n",
       "                }\n",
       "            }, 500);\n",
       "            "
      ],
      "text/plain": [
       "<IPython.core.display.Javascript object>"
      ]
     },
     "metadata": {},
     "output_type": "display_data"
    }
   ],
   "source": [
    "print(\"Test scores:\")\n",
    "test_lrm_metrics = save_metrics(logisticRegressionModel, X_test, y_test)\n",
    "evaluate_model(test_lrm_metrics)"
   ]
  },
  {
   "cell_type": "markdown",
   "id": "a977dc1b",
   "metadata": {},
   "source": [
    "#### Random Forest & Gradient Boosting"
   ]
  },
  {
   "cell_type": "code",
   "execution_count": 26,
   "id": "c97c1e4b",
   "metadata": {},
   "outputs": [
    {
     "data": {
      "text/plain": [
       "RandomForestClassifier(max_depth=50, n_estimators=1000, random_state=42)"
      ]
     },
     "execution_count": 26,
     "metadata": {},
     "output_type": "execute_result"
    },
    {
     "data": {
      "application/javascript": [
       "\n",
       "            setTimeout(function() {\n",
       "                var nbb_cell_id = 26;\n",
       "                var nbb_unformatted_code = \"from sklearn.ensemble import RandomForestClassifier\\nrfc = RandomForestClassifier(n_estimators=1000, max_depth=50, random_state=42)\\nrfc.fit(X_train, y_train)\";\n",
       "                var nbb_formatted_code = \"from sklearn.ensemble import RandomForestClassifier\\n\\nrfc = RandomForestClassifier(n_estimators=1000, max_depth=50, random_state=42)\\nrfc.fit(X_train, y_train)\";\n",
       "                var nbb_cells = Jupyter.notebook.get_cells();\n",
       "                for (var i = 0; i < nbb_cells.length; ++i) {\n",
       "                    if (nbb_cells[i].input_prompt_number == nbb_cell_id) {\n",
       "                        if (nbb_cells[i].get_text() == nbb_unformatted_code) {\n",
       "                             nbb_cells[i].set_text(nbb_formatted_code);\n",
       "                        }\n",
       "                        break;\n",
       "                    }\n",
       "                }\n",
       "            }, 500);\n",
       "            "
      ],
      "text/plain": [
       "<IPython.core.display.Javascript object>"
      ]
     },
     "metadata": {},
     "output_type": "display_data"
    }
   ],
   "source": [
    "from sklearn.ensemble import RandomForestClassifier\n",
    "\n",
    "rfc = RandomForestClassifier(n_estimators=1000, max_depth=50, random_state=42)\n",
    "rfc.fit(X_train, y_train)"
   ]
  },
  {
   "cell_type": "code",
   "execution_count": 27,
   "id": "6012ab4a",
   "metadata": {},
   "outputs": [
    {
     "name": "stdout",
     "output_type": "stream",
     "text": [
      "Train scores:\n",
      "accuracy : 0.7995\n",
      "precision : 0.7824\n",
      "recall : 0.8377\n",
      "f1 : 0.8091\n"
     ]
    },
    {
     "data": {
      "application/javascript": [
       "\n",
       "            setTimeout(function() {\n",
       "                var nbb_cell_id = 27;\n",
       "                var nbb_unformatted_code = \"print(\\\"Train scores:\\\")\\ntrain_rfc_metrics = save_metrics(rfc, X_train, y_train)\\nevaluate_model(train_rfc_metrics)\";\n",
       "                var nbb_formatted_code = \"print(\\\"Train scores:\\\")\\ntrain_rfc_metrics = save_metrics(rfc, X_train, y_train)\\nevaluate_model(train_rfc_metrics)\";\n",
       "                var nbb_cells = Jupyter.notebook.get_cells();\n",
       "                for (var i = 0; i < nbb_cells.length; ++i) {\n",
       "                    if (nbb_cells[i].input_prompt_number == nbb_cell_id) {\n",
       "                        if (nbb_cells[i].get_text() == nbb_unformatted_code) {\n",
       "                             nbb_cells[i].set_text(nbb_formatted_code);\n",
       "                        }\n",
       "                        break;\n",
       "                    }\n",
       "                }\n",
       "            }, 500);\n",
       "            "
      ],
      "text/plain": [
       "<IPython.core.display.Javascript object>"
      ]
     },
     "metadata": {},
     "output_type": "display_data"
    }
   ],
   "source": [
    "print(\"Train scores:\")\n",
    "train_rfc_metrics = save_metrics(rfc, X_train, y_train)\n",
    "evaluate_model(train_rfc_metrics)"
   ]
  },
  {
   "cell_type": "code",
   "execution_count": 28,
   "id": "520e5946",
   "metadata": {},
   "outputs": [
    {
     "name": "stdout",
     "output_type": "stream",
     "text": [
      "Test scores:\n",
      "accuracy : 0.7566\n",
      "precision : 0.7087\n",
      "recall : 0.8202\n",
      "f1 : 0.7604\n"
     ]
    },
    {
     "data": {
      "application/javascript": [
       "\n",
       "            setTimeout(function() {\n",
       "                var nbb_cell_id = 28;\n",
       "                var nbb_unformatted_code = \"print(\\\"Test scores:\\\")\\ntest_rfc_metrics = save_metrics(rfc, X_test, y_test)\\nevaluate_model(test_rfc_metrics)\";\n",
       "                var nbb_formatted_code = \"print(\\\"Test scores:\\\")\\ntest_rfc_metrics = save_metrics(rfc, X_test, y_test)\\nevaluate_model(test_rfc_metrics)\";\n",
       "                var nbb_cells = Jupyter.notebook.get_cells();\n",
       "                for (var i = 0; i < nbb_cells.length; ++i) {\n",
       "                    if (nbb_cells[i].input_prompt_number == nbb_cell_id) {\n",
       "                        if (nbb_cells[i].get_text() == nbb_unformatted_code) {\n",
       "                             nbb_cells[i].set_text(nbb_formatted_code);\n",
       "                        }\n",
       "                        break;\n",
       "                    }\n",
       "                }\n",
       "            }, 500);\n",
       "            "
      ],
      "text/plain": [
       "<IPython.core.display.Javascript object>"
      ]
     },
     "metadata": {},
     "output_type": "display_data"
    }
   ],
   "source": [
    "print(\"Test scores:\")\n",
    "test_rfc_metrics = save_metrics(rfc, X_test, y_test)\n",
    "evaluate_model(test_rfc_metrics)"
   ]
  },
  {
   "cell_type": "code",
   "execution_count": 29,
   "id": "1b64f2a1",
   "metadata": {},
   "outputs": [
    {
     "data": {
      "text/plain": [
       "GradientBoostingClassifier(random_state=42)"
      ]
     },
     "execution_count": 29,
     "metadata": {},
     "output_type": "execute_result"
    },
    {
     "data": {
      "application/javascript": [
       "\n",
       "            setTimeout(function() {\n",
       "                var nbb_cell_id = 29;\n",
       "                var nbb_unformatted_code = \"from sklearn.ensemble import GradientBoostingClassifier\\ngbc = GradientBoostingClassifier(random_state=42)\\ngbc.fit(X_train, y_train)\";\n",
       "                var nbb_formatted_code = \"from sklearn.ensemble import GradientBoostingClassifier\\n\\ngbc = GradientBoostingClassifier(random_state=42)\\ngbc.fit(X_train, y_train)\";\n",
       "                var nbb_cells = Jupyter.notebook.get_cells();\n",
       "                for (var i = 0; i < nbb_cells.length; ++i) {\n",
       "                    if (nbb_cells[i].input_prompt_number == nbb_cell_id) {\n",
       "                        if (nbb_cells[i].get_text() == nbb_unformatted_code) {\n",
       "                             nbb_cells[i].set_text(nbb_formatted_code);\n",
       "                        }\n",
       "                        break;\n",
       "                    }\n",
       "                }\n",
       "            }, 500);\n",
       "            "
      ],
      "text/plain": [
       "<IPython.core.display.Javascript object>"
      ]
     },
     "metadata": {},
     "output_type": "display_data"
    }
   ],
   "source": [
    "from sklearn.ensemble import GradientBoostingClassifier\n",
    "\n",
    "gbc = GradientBoostingClassifier(random_state=42)\n",
    "gbc.fit(X_train, y_train)"
   ]
  },
  {
   "cell_type": "code",
   "execution_count": 30,
   "id": "6b6500ec",
   "metadata": {},
   "outputs": [
    {
     "name": "stdout",
     "output_type": "stream",
     "text": [
      "Train scores:\n",
      "accuracy : 0.7769\n",
      "precision : 0.7378\n",
      "recall : 0.8691\n",
      "f1 : 0.7981\n"
     ]
    },
    {
     "data": {
      "application/javascript": [
       "\n",
       "            setTimeout(function() {\n",
       "                var nbb_cell_id = 30;\n",
       "                var nbb_unformatted_code = \"print(\\\"Train scores:\\\")\\ntrain_gbc_metrics = save_metrics(gbc, X_train, y_train)\\nevaluate_model(train_gbc_metrics)\";\n",
       "                var nbb_formatted_code = \"print(\\\"Train scores:\\\")\\ntrain_gbc_metrics = save_metrics(gbc, X_train, y_train)\\nevaluate_model(train_gbc_metrics)\";\n",
       "                var nbb_cells = Jupyter.notebook.get_cells();\n",
       "                for (var i = 0; i < nbb_cells.length; ++i) {\n",
       "                    if (nbb_cells[i].input_prompt_number == nbb_cell_id) {\n",
       "                        if (nbb_cells[i].get_text() == nbb_unformatted_code) {\n",
       "                             nbb_cells[i].set_text(nbb_formatted_code);\n",
       "                        }\n",
       "                        break;\n",
       "                    }\n",
       "                }\n",
       "            }, 500);\n",
       "            "
      ],
      "text/plain": [
       "<IPython.core.display.Javascript object>"
      ]
     },
     "metadata": {},
     "output_type": "display_data"
    }
   ],
   "source": [
    "print(\"Train scores:\")\n",
    "train_gbc_metrics = save_metrics(gbc, X_train, y_train)\n",
    "evaluate_model(train_gbc_metrics)"
   ]
  },
  {
   "cell_type": "code",
   "execution_count": 31,
   "id": "57312728",
   "metadata": {},
   "outputs": [
    {
     "name": "stdout",
     "output_type": "stream",
     "text": [
      "Test scores:\n",
      "accuracy : 0.6984\n",
      "precision : 0.6404\n",
      "recall : 0.8202\n",
      "f1 : 0.7192\n"
     ]
    },
    {
     "data": {
      "application/javascript": [
       "\n",
       "            setTimeout(function() {\n",
       "                var nbb_cell_id = 31;\n",
       "                var nbb_unformatted_code = \"print(\\\"Test scores:\\\")\\ntest_gbc_metrics = save_metrics(gbc, X_test, y_test)\\nevaluate_model(test_gbc_metrics)\";\n",
       "                var nbb_formatted_code = \"print(\\\"Test scores:\\\")\\ntest_gbc_metrics = save_metrics(gbc, X_test, y_test)\\nevaluate_model(test_gbc_metrics)\";\n",
       "                var nbb_cells = Jupyter.notebook.get_cells();\n",
       "                for (var i = 0; i < nbb_cells.length; ++i) {\n",
       "                    if (nbb_cells[i].input_prompt_number == nbb_cell_id) {\n",
       "                        if (nbb_cells[i].get_text() == nbb_unformatted_code) {\n",
       "                             nbb_cells[i].set_text(nbb_formatted_code);\n",
       "                        }\n",
       "                        break;\n",
       "                    }\n",
       "                }\n",
       "            }, 500);\n",
       "            "
      ],
      "text/plain": [
       "<IPython.core.display.Javascript object>"
      ]
     },
     "metadata": {},
     "output_type": "display_data"
    }
   ],
   "source": [
    "print(\"Test scores:\")\n",
    "test_gbc_metrics = save_metrics(gbc, X_test, y_test)\n",
    "evaluate_model(test_gbc_metrics)"
   ]
  },
  {
   "cell_type": "markdown",
   "id": "84dbfa30",
   "metadata": {},
   "source": [
    "#### Basic MLP"
   ]
  },
  {
   "cell_type": "code",
   "execution_count": 32,
   "id": "48b389db",
   "metadata": {},
   "outputs": [
    {
     "data": {
      "text/plain": [
       "MLPClassifier(hidden_layer_sizes=(10, 256, 10), max_iter=500, random_state=42)"
      ]
     },
     "execution_count": 32,
     "metadata": {},
     "output_type": "execute_result"
    },
    {
     "data": {
      "application/javascript": [
       "\n",
       "            setTimeout(function() {\n",
       "                var nbb_cell_id = 32;\n",
       "                var nbb_unformatted_code = \"from sklearn.neural_network import MLPClassifier\\nmlpc = MLPClassifier(hidden_layer_sizes = (10, 256, 10), max_iter=500, random_state=42)\\nmlpc.fit(X_train, y_train)\";\n",
       "                var nbb_formatted_code = \"from sklearn.neural_network import MLPClassifier\\n\\nmlpc = MLPClassifier(hidden_layer_sizes=(10, 256, 10), max_iter=500, random_state=42)\\nmlpc.fit(X_train, y_train)\";\n",
       "                var nbb_cells = Jupyter.notebook.get_cells();\n",
       "                for (var i = 0; i < nbb_cells.length; ++i) {\n",
       "                    if (nbb_cells[i].input_prompt_number == nbb_cell_id) {\n",
       "                        if (nbb_cells[i].get_text() == nbb_unformatted_code) {\n",
       "                             nbb_cells[i].set_text(nbb_formatted_code);\n",
       "                        }\n",
       "                        break;\n",
       "                    }\n",
       "                }\n",
       "            }, 500);\n",
       "            "
      ],
      "text/plain": [
       "<IPython.core.display.Javascript object>"
      ]
     },
     "metadata": {},
     "output_type": "display_data"
    }
   ],
   "source": [
    "from sklearn.neural_network import MLPClassifier\n",
    "\n",
    "mlpc = MLPClassifier(hidden_layer_sizes=(10, 256, 10), max_iter=500, random_state=42)\n",
    "mlpc.fit(X_train, y_train)"
   ]
  },
  {
   "cell_type": "code",
   "execution_count": 33,
   "id": "c3992ac7",
   "metadata": {},
   "outputs": [
    {
     "name": "stdout",
     "output_type": "stream",
     "text": [
      "Train scores:\n",
      "accuracy : 0.7981\n",
      "precision : 0.7833\n",
      "recall : 0.8325\n",
      "f1 : 0.8071\n"
     ]
    },
    {
     "data": {
      "application/javascript": [
       "\n",
       "            setTimeout(function() {\n",
       "                var nbb_cell_id = 33;\n",
       "                var nbb_unformatted_code = \"print(\\\"Train scores:\\\")\\ntrain_mlpc_metrics = save_metrics(mlpc, X_train, y_train)\\nevaluate_model(train_mlpc_metrics)\";\n",
       "                var nbb_formatted_code = \"print(\\\"Train scores:\\\")\\ntrain_mlpc_metrics = save_metrics(mlpc, X_train, y_train)\\nevaluate_model(train_mlpc_metrics)\";\n",
       "                var nbb_cells = Jupyter.notebook.get_cells();\n",
       "                for (var i = 0; i < nbb_cells.length; ++i) {\n",
       "                    if (nbb_cells[i].input_prompt_number == nbb_cell_id) {\n",
       "                        if (nbb_cells[i].get_text() == nbb_unformatted_code) {\n",
       "                             nbb_cells[i].set_text(nbb_formatted_code);\n",
       "                        }\n",
       "                        break;\n",
       "                    }\n",
       "                }\n",
       "            }, 500);\n",
       "            "
      ],
      "text/plain": [
       "<IPython.core.display.Javascript object>"
      ]
     },
     "metadata": {},
     "output_type": "display_data"
    }
   ],
   "source": [
    "print(\"Train scores:\")\n",
    "train_mlpc_metrics = save_metrics(mlpc, X_train, y_train)\n",
    "evaluate_model(train_mlpc_metrics)"
   ]
  },
  {
   "cell_type": "code",
   "execution_count": 34,
   "id": "1c965712",
   "metadata": {},
   "outputs": [
    {
     "name": "stdout",
     "output_type": "stream",
     "text": [
      "Test scores:\n",
      "accuracy : 0.7672\n",
      "precision : 0.7273\n",
      "recall : 0.8090\n",
      "f1 : 0.7660\n"
     ]
    },
    {
     "data": {
      "application/javascript": [
       "\n",
       "            setTimeout(function() {\n",
       "                var nbb_cell_id = 34;\n",
       "                var nbb_unformatted_code = \"print(\\\"Test scores:\\\")\\ntest_mlpc_metrics = save_metrics(mlpc, X_test, y_test)\\nevaluate_model(test_mlpc_metrics)\";\n",
       "                var nbb_formatted_code = \"print(\\\"Test scores:\\\")\\ntest_mlpc_metrics = save_metrics(mlpc, X_test, y_test)\\nevaluate_model(test_mlpc_metrics)\";\n",
       "                var nbb_cells = Jupyter.notebook.get_cells();\n",
       "                for (var i = 0; i < nbb_cells.length; ++i) {\n",
       "                    if (nbb_cells[i].input_prompt_number == nbb_cell_id) {\n",
       "                        if (nbb_cells[i].get_text() == nbb_unformatted_code) {\n",
       "                             nbb_cells[i].set_text(nbb_formatted_code);\n",
       "                        }\n",
       "                        break;\n",
       "                    }\n",
       "                }\n",
       "            }, 500);\n",
       "            "
      ],
      "text/plain": [
       "<IPython.core.display.Javascript object>"
      ]
     },
     "metadata": {},
     "output_type": "display_data"
    }
   ],
   "source": [
    "print(\"Test scores:\")\n",
    "test_mlpc_metrics = save_metrics(mlpc, X_test, y_test)\n",
    "evaluate_model(test_mlpc_metrics)"
   ]
  },
  {
   "cell_type": "markdown",
   "id": "e20216d9",
   "metadata": {},
   "source": [
    "### Résultats"
   ]
  },
  {
   "cell_type": "code",
   "execution_count": 35,
   "id": "10bfd4a8",
   "metadata": {},
   "outputs": [
    {
     "data": {
      "application/javascript": [
       "\n",
       "            setTimeout(function() {\n",
       "                var nbb_cell_id = 35;\n",
       "                var nbb_unformatted_code = \"df_results = pd.DataFrame(\\n    dict(\\n        logistic_regression = test_lrm_metrics,\\n        random_forest = test_rfc_metrics,\\n        gradient_boosting = test_gbc_metrics,\\n        neural_network = test_mlpc_metrics\\n    )\\n)\";\n",
       "                var nbb_formatted_code = \"df_results = pd.DataFrame(\\n    dict(\\n        logistic_regression=test_lrm_metrics,\\n        random_forest=test_rfc_metrics,\\n        gradient_boosting=test_gbc_metrics,\\n        neural_network=test_mlpc_metrics,\\n    )\\n)\";\n",
       "                var nbb_cells = Jupyter.notebook.get_cells();\n",
       "                for (var i = 0; i < nbb_cells.length; ++i) {\n",
       "                    if (nbb_cells[i].input_prompt_number == nbb_cell_id) {\n",
       "                        if (nbb_cells[i].get_text() == nbb_unformatted_code) {\n",
       "                             nbb_cells[i].set_text(nbb_formatted_code);\n",
       "                        }\n",
       "                        break;\n",
       "                    }\n",
       "                }\n",
       "            }, 500);\n",
       "            "
      ],
      "text/plain": [
       "<IPython.core.display.Javascript object>"
      ]
     },
     "metadata": {},
     "output_type": "display_data"
    }
   ],
   "source": [
    "df_results = pd.DataFrame(\n",
    "    dict(\n",
    "        logistic_regression=test_lrm_metrics,\n",
    "        random_forest=test_rfc_metrics,\n",
    "        gradient_boosting=test_gbc_metrics,\n",
    "        neural_network=test_mlpc_metrics,\n",
    "    )\n",
    ")"
   ]
  },
  {
   "cell_type": "code",
   "execution_count": 36,
   "id": "df727df1",
   "metadata": {},
   "outputs": [
    {
     "data": {
      "text/html": [
       "<div>\n",
       "<style scoped>\n",
       "    .dataframe tbody tr th:only-of-type {\n",
       "        vertical-align: middle;\n",
       "    }\n",
       "\n",
       "    .dataframe tbody tr th {\n",
       "        vertical-align: top;\n",
       "    }\n",
       "\n",
       "    .dataframe thead th {\n",
       "        text-align: right;\n",
       "    }\n",
       "</style>\n",
       "<table border=\"1\" class=\"dataframe\">\n",
       "  <thead>\n",
       "    <tr style=\"text-align: right;\">\n",
       "      <th></th>\n",
       "      <th>logistic_regression</th>\n",
       "      <th>random_forest</th>\n",
       "      <th>gradient_boosting</th>\n",
       "      <th>neural_network</th>\n",
       "    </tr>\n",
       "  </thead>\n",
       "  <tbody>\n",
       "    <tr>\n",
       "      <th>accuracy</th>\n",
       "      <td>0.571429</td>\n",
       "      <td>0.756614</td>\n",
       "      <td>0.698413</td>\n",
       "      <td>0.767196</td>\n",
       "    </tr>\n",
       "    <tr>\n",
       "      <th>precision</th>\n",
       "      <td>0.571429</td>\n",
       "      <td>0.708738</td>\n",
       "      <td>0.640351</td>\n",
       "      <td>0.727273</td>\n",
       "    </tr>\n",
       "    <tr>\n",
       "      <th>recall</th>\n",
       "      <td>0.359551</td>\n",
       "      <td>0.820225</td>\n",
       "      <td>0.820225</td>\n",
       "      <td>0.808989</td>\n",
       "    </tr>\n",
       "    <tr>\n",
       "      <th>f1</th>\n",
       "      <td>0.441379</td>\n",
       "      <td>0.760417</td>\n",
       "      <td>0.719212</td>\n",
       "      <td>0.765957</td>\n",
       "    </tr>\n",
       "  </tbody>\n",
       "</table>\n",
       "</div>"
      ],
      "text/plain": [
       "           logistic_regression  random_forest  gradient_boosting  \\\n",
       "accuracy              0.571429       0.756614           0.698413   \n",
       "precision             0.571429       0.708738           0.640351   \n",
       "recall                0.359551       0.820225           0.820225   \n",
       "f1                    0.441379       0.760417           0.719212   \n",
       "\n",
       "           neural_network  \n",
       "accuracy         0.767196  \n",
       "precision        0.727273  \n",
       "recall           0.808989  \n",
       "f1               0.765957  "
      ]
     },
     "execution_count": 36,
     "metadata": {},
     "output_type": "execute_result"
    },
    {
     "data": {
      "application/javascript": [
       "\n",
       "            setTimeout(function() {\n",
       "                var nbb_cell_id = 36;\n",
       "                var nbb_unformatted_code = \"df_results\";\n",
       "                var nbb_formatted_code = \"df_results\";\n",
       "                var nbb_cells = Jupyter.notebook.get_cells();\n",
       "                for (var i = 0; i < nbb_cells.length; ++i) {\n",
       "                    if (nbb_cells[i].input_prompt_number == nbb_cell_id) {\n",
       "                        if (nbb_cells[i].get_text() == nbb_unformatted_code) {\n",
       "                             nbb_cells[i].set_text(nbb_formatted_code);\n",
       "                        }\n",
       "                        break;\n",
       "                    }\n",
       "                }\n",
       "            }, 500);\n",
       "            "
      ],
      "text/plain": [
       "<IPython.core.display.Javascript object>"
      ]
     },
     "metadata": {},
     "output_type": "display_data"
    }
   ],
   "source": [
    "df_results"
   ]
  },
  {
   "cell_type": "markdown",
   "id": "02b60949",
   "metadata": {},
   "source": [
    "Random Forest et le MLP semblent assez bien se dinstinguer avec une accuracy de 76% (bon indicateur ici puisque l'on est en présence d'un dataset équilibré).\n",
    "Le rappel est supérieur à la précision, cela signifique que la modèle va avoir tendance à faire plus de faux négatif que de faux positifs, la question qu'il peut être pertinent de se poser c'est de savoir ce qu'on souhait privilégier"
   ]
  },
  {
   "cell_type": "code",
   "execution_count": 37,
   "id": "dfec28e4",
   "metadata": {},
   "outputs": [
    {
     "data": {
      "application/javascript": [
       "\n",
       "            setTimeout(function() {\n",
       "                var nbb_cell_id = 37;\n",
       "                var nbb_unformatted_code = \"import seaborn as sns\";\n",
       "                var nbb_formatted_code = \"import seaborn as sns\";\n",
       "                var nbb_cells = Jupyter.notebook.get_cells();\n",
       "                for (var i = 0; i < nbb_cells.length; ++i) {\n",
       "                    if (nbb_cells[i].input_prompt_number == nbb_cell_id) {\n",
       "                        if (nbb_cells[i].get_text() == nbb_unformatted_code) {\n",
       "                             nbb_cells[i].set_text(nbb_formatted_code);\n",
       "                        }\n",
       "                        break;\n",
       "                    }\n",
       "                }\n",
       "            }, 500);\n",
       "            "
      ],
      "text/plain": [
       "<IPython.core.display.Javascript object>"
      ]
     },
     "metadata": {},
     "output_type": "display_data"
    }
   ],
   "source": [
    "import seaborn as sns"
   ]
  },
  {
   "cell_type": "code",
   "execution_count": 40,
   "id": "562e4277",
   "metadata": {},
   "outputs": [
    {
     "data": {
      "text/plain": [
       "<seaborn.axisgrid.FacetGrid at 0x11e79a4f0>"
      ]
     },
     "execution_count": 40,
     "metadata": {},
     "output_type": "execute_result"
    },
    {
     "data": {
      "image/png": "[encoded data removed]",
      "text/plain": [
       "<Figure size 402.375x360 with 1 Axes>"
      ]
     },
     "metadata": {
      "needs_background": "light"
     },
     "output_type": "display_data"
    },
    {
     "data": {
      "application/javascript": [
       "\n",
       "            setTimeout(function() {\n",
       "                var nbb_cell_id = 40;\n",
       "                var nbb_unformatted_code = \"df_rfc = pd.DataFrame(dict(result=df_1[\\\"result\\\"], proba=rfc.predict_proba(X)[:, 1]))\\nsns.displot(data=df_rfc, x=\\\"proba\\\", hue=\\\"result\\\", kind=\\\"kde\\\")\";\n",
       "                var nbb_formatted_code = \"df_rfc = pd.DataFrame(dict(result=df_1[\\\"result\\\"], proba=rfc.predict_proba(X)[:, 1]))\\nsns.displot(data=df_rfc, x=\\\"proba\\\", hue=\\\"result\\\", kind=\\\"kde\\\")\";\n",
       "                var nbb_cells = Jupyter.notebook.get_cells();\n",
       "                for (var i = 0; i < nbb_cells.length; ++i) {\n",
       "                    if (nbb_cells[i].input_prompt_number == nbb_cell_id) {\n",
       "                        if (nbb_cells[i].get_text() == nbb_unformatted_code) {\n",
       "                             nbb_cells[i].set_text(nbb_formatted_code);\n",
       "                        }\n",
       "                        break;\n",
       "                    }\n",
       "                }\n",
       "            }, 500);\n",
       "            "
      ],
      "text/plain": [
       "<IPython.core.display.Javascript object>"
      ]
     },
     "metadata": {},
     "output_type": "display_data"
    }
   ],
   "source": [
    "df_rfc = pd.DataFrame(dict(result=df_1[\"result\"], proba=rfc.predict_proba(X)[:, 1]))\n",
    "sns.displot(data=df_rfc, x=\"proba\", hue=\"result\", kind=\"kde\")"
   ]
  },
  {
   "cell_type": "code",
   "execution_count": 42,
   "id": "0ea96d3f",
   "metadata": {},
   "outputs": [
    {
     "data": {
      "text/plain": [
       "<seaborn.axisgrid.FacetGrid at 0x11e980670>"
      ]
     },
     "execution_count": 42,
     "metadata": {},
     "output_type": "execute_result"
    },
    {
     "data": {
      "image/png": "[encoded data removed]",
      "text/plain": [
       "<Figure size 402.375x360 with 1 Axes>"
      ]
     },
     "metadata": {
      "needs_background": "light"
     },
     "output_type": "display_data"
    },
    {
     "data": {
      "application/javascript": [
       "\n",
       "            setTimeout(function() {\n",
       "                var nbb_cell_id = 42;\n",
       "                var nbb_unformatted_code = \"df_mlp = pd.DataFrame(dict(result=df_1[\\\"result\\\"], proba=mlpc.predict_proba(X)[:, 1]))\\nsns.displot(data=df_mlp, x=\\\"proba\\\", hue=\\\"result\\\", kind=\\\"kde\\\")\";\n",
       "                var nbb_formatted_code = \"df_mlp = pd.DataFrame(dict(result=df_1[\\\"result\\\"], proba=mlpc.predict_proba(X)[:, 1]))\\nsns.displot(data=df_mlp, x=\\\"proba\\\", hue=\\\"result\\\", kind=\\\"kde\\\")\";\n",
       "                var nbb_cells = Jupyter.notebook.get_cells();\n",
       "                for (var i = 0; i < nbb_cells.length; ++i) {\n",
       "                    if (nbb_cells[i].input_prompt_number == nbb_cell_id) {\n",
       "                        if (nbb_cells[i].get_text() == nbb_unformatted_code) {\n",
       "                             nbb_cells[i].set_text(nbb_formatted_code);\n",
       "                        }\n",
       "                        break;\n",
       "                    }\n",
       "                }\n",
       "            }, 500);\n",
       "            "
      ],
      "text/plain": [
       "<IPython.core.display.Javascript object>"
      ]
     },
     "metadata": {},
     "output_type": "display_data"
    }
   ],
   "source": [
    "df_mlp = pd.DataFrame(dict(result=df_1[\"result\"], proba=mlpc.predict_proba(X)[:, 1]))\n",
    "sns.displot(data=df_mlp, x=\"proba\", hue=\"result\", kind=\"kde\")"
   ]
  },
  {
   "cell_type": "markdown",
   "id": "668eceba",
   "metadata": {},
   "source": [
    "Franchement, c'est pas mal."
   ]
  }
 ],
 "metadata": {
  "kernelspec": {
   "display_name": "Python 3.9.1 64-bit ('dl-ic': conda)",
   "language": "python",
   "name": "python391jvsc74a57bd0d1a5851d26d2e463d7ac6255c9b6bd730d6f974a4e8dcd392abbf2acd8a6cf82"
  },
  "language_info": {
   "codemirror_mode": {
    "name": "ipython",
    "version": 3
   },
   "file_extension": ".py",
   "mimetype": "text/x-python",
   "name": "python",
   "nbconvert_exporter": "python",
   "pygments_lexer": "ipython3",
   "version": "3.8.12"
  },
  "toc": {
   "base_numbering": 1,
   "nav_menu": {},
   "number_sections": true,
   "sideBar": true,
   "skip_h1_title": false,
   "title_cell": "Table of Contents",
   "title_sidebar": "Contents",
   "toc_cell": false,
   "toc_position": {},
   "toc_section_display": true,
   "toc_window_display": true
  }
 },
 "nbformat": 4,
 "nbformat_minor": 5
}

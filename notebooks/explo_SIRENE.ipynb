{
 "cells": [
  {
   "cell_type": "markdown",
   "metadata": {},
   "source": [
    "# Exploration API SIRENE\n",
    "\n",
    "Dans le cadre du simulateur d'éligibilité, il est intéressant de pouvoir récupérer un certain nombre de données de façon automatique à partir du nom de l'entreprise en passant par les données contenues dans la base de données SIRENE.\n",
    "\n",
    "Dans cette base de donnée, une entreprise est appelée **Unité Légale** et est identifiée par un numéro SIREN unique.\n",
    "\n",
    "Une unité légale possède plusieurs **établissements** (adresses physiques), dont un siège, tous identifiés par un numéro SIRET unique."
   ]
  },
  {
   "cell_type": "code",
   "execution_count": 78,
   "metadata": {},
   "outputs": [],
   "source": [
    "import requests\n",
    "\n",
    "TOKEN = \"74af4f9f-b5ac-33b3-806b-a6a0714b0b2d\""
   ]
  },
  {
   "cell_type": "code",
   "execution_count": 76,
   "metadata": {},
   "outputs": [],
   "source": [
    "sirene_url = \"https://api.insee.fr/entreprises/sirene/V3/siren\"\n",
    "\n",
    "def call_sirene(company_name: str, token_key: str=TOKEN) -> dict:\n",
    "    params = dict(\n",
    "        q=f'periode(denominationUniteLegale:\"{company_name}\")'\n",
    "    )\n",
    "    headers = dict(Authorization=f\"Bearer {token_key}\")\n",
    "    response = requests.get(sirene_url, params=params, headers=headers)\n",
    "    if response.ok:\n",
    "        return response.json()\n",
    "    else:\n",
    "        raise RuntimeError(f\"Error calling SIRENE API: {response.json()['header']}\")"
   ]
  },
  {
   "cell_type": "code",
   "execution_count": 109,
   "metadata": {},
   "outputs": [],
   "source": [
    "def parse_company(company_output):\n",
    "    yield \"siren\", company_output[\"siren\"]\n",
    "    yield \"creation_date\", company_output[\"dateCreationUniteLegale\"]\n",
    "    yield \"workforce\", {\n",
    "        \"code\": company_output[\"trancheEffectifsUniteLegale\"],\n",
    "        \"date\": company_output[\"anneeEffectifsUniteLegale\"]\n",
    "    }\n",
    "    yield \"category\", {\n",
    "        \"code\": company_output[\"categorieEntreprise\"],\n",
    "        \"date\": company_output[\"anneeCategorieEntreprise\"]\n",
    "    } # PME/EI/GE\n",
    "    yield \"activity\", {\n",
    "        \"code\": company_output[\"periodesUniteLegale\"][0][\"activitePrincipaleUniteLegale\"],\n",
    "        \"date\": company_output[\"periodesUniteLegale\"][0][\"nomenclatureActivitePrincipaleUniteLegale\"]\n",
    "    }\n",
    "    yield \"ess\", company_output[\"periodesUniteLegale\"][0][\"economieSocialeSolidaireUniteLegale\"]"
   ]
  },
  {
   "cell_type": "code",
   "execution_count": 110,
   "metadata": {},
   "outputs": [],
   "source": [
    "workforce_codes = {\n",
    "    \"NN\": None,\n",
    "    \"00\": [0, 0], \n",
    "    \"01\": [1, 2],\n",
    "    \"02\": [3, 5], \n",
    "    \"03\": [6, 9], \n",
    "    \"11\": [10, 19], \n",
    "    \"12\": [20, 49], \n",
    "    \"21\": [50, 99], \n",
    "    \"22\": [100, 199], \n",
    "    \"31\": [200, 249], \n",
    "    \"32\": [250, 499], \n",
    "    \"41\": [500, 999], \n",
    "    \"42\": [1000, 1999], \n",
    "    \"51\": [2000, 4999], \n",
    "    \"52\": [5000, 9999], \n",
    "    \"53\": [10000, None]\n",
    "}"
   ]
  },
  {
   "cell_type": "code",
   "execution_count": 111,
   "metadata": {},
   "outputs": [],
   "source": [
    "def get_company_info(company_name: str, token_key: str=TOKEN) -> dict:\n",
    "    company_output = call_sirene(company_name, token_key)[\"unitesLegales\"][0]\n",
    "    company_info = dict(parse_company(company_output))\n",
    "    company_info[\"workforce\"][\"value\"] = workforce_codes.get(company_info[\"workforce\"][\"code\"])\n",
    "    return company_info"
   ]
  },
  {
   "cell_type": "code",
   "execution_count": 112,
   "metadata": {},
   "outputs": [
    {
     "data": {
      "text/plain": [
       "{'siren': '804763670',\n",
       " 'creation_date': '2014-09-23',\n",
       " 'workforce': {'code': '21', 'date': '2019', 'value': [50, 99]},\n",
       " 'category': {'code': 'PME', 'date': '2019'},\n",
       " 'activity': {'code': '62.09Z', 'date': 'NAFRev2'},\n",
       " 'ess': 'N'}"
      ]
     },
     "execution_count": 112,
     "metadata": {},
     "output_type": "execute_result"
    }
   ],
   "source": [
    "get_company_info(\"DEEPKI\")"
   ]
  }
 ],
 "metadata": {
  "interpreter": {
   "hash": "dbbd0cb75a35265bf8de2579a0fbf0ff2d206dbf4d46519b4e58f6b1a1668382"
  },
  "kernelspec": {
   "display_name": "Python 3.9.7 64-bit ('mission-transition': conda)",
   "language": "python",
   "name": "python3"
  },
  "language_info": {
   "codemirror_mode": {
    "name": "ipython",
    "version": 3
   },
   "file_extension": ".py",
   "mimetype": "text/x-python",
   "name": "python",
   "nbconvert_exporter": "python",
   "pygments_lexer": "ipython3",
   "version": "3.9.7"
  },
  "orig_nbformat": 4
 },
 "nbformat": 4,
 "nbformat_minor": 2
}

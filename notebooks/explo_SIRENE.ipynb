{
 "cells": [
  {
   "cell_type": "markdown",
   "metadata": {},
   "source": [
    "# Exploration API SIRENE\n",
    "\n",
    "Dans le cadre du simulateur d'éligibilité, il est intéressant de pouvoir récupérer un certain nombre de données de façon automatique à partir du nom de l'entreprise en passant par les données contenues dans la base de données SIRENE.\n",
    "\n",
    "Dans cette base de donnée, une entreprise est appelée **Unité Légale** et est identifiée par un numéro SIREN unique.\n",
    "\n",
    "Une unité légale possède plusieurs **établissements** (adresses physiques), dont un siège, tous identifiés par un numéro SIRET unique."
   ]
  },
  {
   "cell_type": "code",
   "execution_count": 1,
   "metadata": {},
   "outputs": [
    {
     "data": {
      "application/javascript": [
       "\n",
       "            setTimeout(function() {\n",
       "                var nbb_cell_id = 1;\n",
       "                var nbb_unformatted_code = \"%load_ext nb_black\\nimport requests\\nfrom typing import Generator\\n\\nTOKEN = \\\"0db47b74-ceef-3c10-8af5-1d6fe3bccae3\\\"\";\n",
       "                var nbb_formatted_code = \"%load_ext nb_black\\nimport requests\\nfrom typing import Generator\\n\\nTOKEN = \\\"0db47b74-ceef-3c10-8af5-1d6fe3bccae3\\\"\";\n",
       "                var nbb_cells = Jupyter.notebook.get_cells();\n",
       "                for (var i = 0; i < nbb_cells.length; ++i) {\n",
       "                    if (nbb_cells[i].input_prompt_number == nbb_cell_id) {\n",
       "                        if (nbb_cells[i].get_text() == nbb_unformatted_code) {\n",
       "                             nbb_cells[i].set_text(nbb_formatted_code);\n",
       "                        }\n",
       "                        break;\n",
       "                    }\n",
       "                }\n",
       "            }, 500);\n",
       "            "
      ],
      "text/plain": [
       "<IPython.core.display.Javascript object>"
      ]
     },
     "metadata": {},
     "output_type": "display_data"
    }
   ],
   "source": [
    "%load_ext nb_black\n",
    "import requests\n",
    "from typing import Generator\n",
    "\n",
    "TOKEN = \"0db47b74-ceef-3c10-8af5-1d6fe3bccae3\""
   ]
  },
  {
   "cell_type": "code",
   "execution_count": 2,
   "metadata": {},
   "outputs": [
    {
     "data": {
      "application/javascript": [
       "\n",
       "            setTimeout(function() {\n",
       "                var nbb_cell_id = 2;\n",
       "                var nbb_unformatted_code = \"sirene_url = \\\"https://api.insee.fr/entreprises/sirene/V3/siren\\\"\\n\\ndef call_sirene(company_name: str, token_key: str=TOKEN) -> dict:\\n    \\\"\\\"\\\"\\n    Calls SIRENE API from a company name and token key\\n    \\n    Args:\\n        company_name: name of the company (exact matching)\\n        token_key: Bearer authorization key\\n        \\n    Returns:\\n        json body of the SIRENE API response\\n        \\n    Raises:\\n        RuntimeError: if there is an error with the request\\n    \\n    \\\"\\\"\\\"\\n    params = dict(\\n        q=f'periode(denominationUniteLegale:\\\"{company_name}\\\")'\\n    )\\n    headers = dict(Authorization=f\\\"Bearer {token_key}\\\")\\n    response = requests.get(sirene_url, params=params, headers=headers)\\n    if response.ok:\\n        return response.json()\\n    else:\\n        raise RuntimeError(f\\\"Error calling SIRENE API: {response.json()['header']}\\\")\";\n",
       "                var nbb_formatted_code = \"sirene_url = \\\"https://api.insee.fr/entreprises/sirene/V3/siren\\\"\\n\\n\\ndef call_sirene(company_name: str, token_key: str = TOKEN) -> dict:\\n    \\\"\\\"\\\"\\n    Calls SIRENE API from a company name and token key\\n\\n    Args:\\n        company_name: name of the company (exact matching)\\n        token_key: Bearer authorization key\\n\\n    Returns:\\n        json body of the SIRENE API response\\n\\n    Raises:\\n        RuntimeError: if there is an error with the request\\n\\n    \\\"\\\"\\\"\\n    params = dict(q=f'periode(denominationUniteLegale:\\\"{company_name}\\\")')\\n    headers = dict(Authorization=f\\\"Bearer {token_key}\\\")\\n    response = requests.get(sirene_url, params=params, headers=headers)\\n    if response.ok:\\n        return response.json()\\n    else:\\n        raise RuntimeError(f\\\"Error calling SIRENE API: {response.json()['header']}\\\")\";\n",
       "                var nbb_cells = Jupyter.notebook.get_cells();\n",
       "                for (var i = 0; i < nbb_cells.length; ++i) {\n",
       "                    if (nbb_cells[i].input_prompt_number == nbb_cell_id) {\n",
       "                        if (nbb_cells[i].get_text() == nbb_unformatted_code) {\n",
       "                             nbb_cells[i].set_text(nbb_formatted_code);\n",
       "                        }\n",
       "                        break;\n",
       "                    }\n",
       "                }\n",
       "            }, 500);\n",
       "            "
      ],
      "text/plain": [
       "<IPython.core.display.Javascript object>"
      ]
     },
     "metadata": {},
     "output_type": "display_data"
    }
   ],
   "source": [
    "sirene_url = \"https://api.insee.fr/entreprises/sirene/V3/siren\"\n",
    "\n",
    "\n",
    "def call_sirene(company_name: str, token_key: str = TOKEN) -> dict:\n",
    "    \"\"\"\n",
    "    Calls SIRENE API from a company name and token key\n",
    "\n",
    "    Args:\n",
    "        company_name: name of the company (exact matching)\n",
    "        token_key: Bearer authorization key\n",
    "\n",
    "    Returns:\n",
    "        json body of the SIRENE API response\n",
    "\n",
    "    Raises:\n",
    "        RuntimeError: if there is an error with the request\n",
    "\n",
    "    \"\"\"\n",
    "    params = dict(q=f'periode(denominationUniteLegale:\"{company_name}\")')\n",
    "    headers = dict(Authorization=f\"Bearer {token_key}\")\n",
    "    response = requests.get(sirene_url, params=params, headers=headers)\n",
    "    if response.ok:\n",
    "        return response.json()\n",
    "    else:\n",
    "        raise RuntimeError(f\"Error calling SIRENE API: {response.json()['header']}\")"
   ]
  },
  {
   "cell_type": "code",
   "execution_count": 3,
   "metadata": {},
   "outputs": [
    {
     "data": {
      "application/javascript": [
       "\n",
       "            setTimeout(function() {\n",
       "                var nbb_cell_id = 3;\n",
       "                var nbb_unformatted_code = \"def parse_company(company_output: dict) -> Generator:\\n    \\\"\\\"\\\"\\n    Parse the data about a company given the SIRENE API response\\n    \\n    Args:\\n        company_output: output of the SIRENE API call on the company\\n    \\n    Returns:\\n        generator of the pairs (key, value) with the data from SIRENE\\n    \\n    \\\"\\\"\\\"\\n    yield \\\"siren\\\", company_output[\\\"siren\\\"]\\n    yield \\\"creation_date\\\", company_output[\\\"dateCreationUniteLegale\\\"]\\n    yield \\\"workforce\\\", {\\n        \\\"code\\\": company_output[\\\"trancheEffectifsUniteLegale\\\"],\\n        \\\"date\\\": company_output[\\\"anneeEffectifsUniteLegale\\\"]\\n    }\\n    yield \\\"category\\\", {\\n        \\\"code\\\": company_output[\\\"categorieEntreprise\\\"],\\n        \\\"date\\\": company_output[\\\"anneeCategorieEntreprise\\\"]\\n    } # PME/EI/GE\\n    yield \\\"activity\\\", {\\n        \\\"code\\\": company_output[\\\"periodesUniteLegale\\\"][0][\\\"activitePrincipaleUniteLegale\\\"],\\n        \\\"date\\\": company_output[\\\"periodesUniteLegale\\\"][0][\\\"nomenclatureActivitePrincipaleUniteLegale\\\"]\\n    }\\n    yield \\\"ess\\\", company_output[\\\"periodesUniteLegale\\\"][0][\\\"economieSocialeSolidaireUniteLegale\\\"]\";\n",
       "                var nbb_formatted_code = \"def parse_company(company_output: dict) -> Generator:\\n    \\\"\\\"\\\"\\n    Parse the data about a company given the SIRENE API response\\n\\n    Args:\\n        company_output: output of the SIRENE API call on the company\\n\\n    Returns:\\n        generator of the pairs (key, value) with the data from SIRENE\\n\\n    \\\"\\\"\\\"\\n    yield \\\"siren\\\", company_output[\\\"siren\\\"]\\n    yield \\\"creation_date\\\", company_output[\\\"dateCreationUniteLegale\\\"]\\n    yield \\\"workforce\\\", {\\n        \\\"code\\\": company_output[\\\"trancheEffectifsUniteLegale\\\"],\\n        \\\"date\\\": company_output[\\\"anneeEffectifsUniteLegale\\\"],\\n    }\\n    yield \\\"category\\\", {\\n        \\\"code\\\": company_output[\\\"categorieEntreprise\\\"],\\n        \\\"date\\\": company_output[\\\"anneeCategorieEntreprise\\\"],\\n    }  # PME/EI/GE\\n    yield \\\"activity\\\", {\\n        \\\"code\\\": company_output[\\\"periodesUniteLegale\\\"][0][\\n            \\\"activitePrincipaleUniteLegale\\\"\\n        ],\\n        \\\"date\\\": company_output[\\\"periodesUniteLegale\\\"][0][\\n            \\\"nomenclatureActivitePrincipaleUniteLegale\\\"\\n        ],\\n    }\\n    yield \\\"ess\\\", company_output[\\\"periodesUniteLegale\\\"][0][\\n        \\\"economieSocialeSolidaireUniteLegale\\\"\\n    ]\";\n",
       "                var nbb_cells = Jupyter.notebook.get_cells();\n",
       "                for (var i = 0; i < nbb_cells.length; ++i) {\n",
       "                    if (nbb_cells[i].input_prompt_number == nbb_cell_id) {\n",
       "                        if (nbb_cells[i].get_text() == nbb_unformatted_code) {\n",
       "                             nbb_cells[i].set_text(nbb_formatted_code);\n",
       "                        }\n",
       "                        break;\n",
       "                    }\n",
       "                }\n",
       "            }, 500);\n",
       "            "
      ],
      "text/plain": [
       "<IPython.core.display.Javascript object>"
      ]
     },
     "metadata": {},
     "output_type": "display_data"
    }
   ],
   "source": [
    "def parse_company(company_output: dict) -> Generator:\n",
    "    \"\"\"\n",
    "    Parse the data about a company given the SIRENE API response\n",
    "\n",
    "    Args:\n",
    "        company_output: output of the SIRENE API call on the company\n",
    "\n",
    "    Returns:\n",
    "        generator of the pairs (key, value) with the data from SIRENE\n",
    "\n",
    "    \"\"\"\n",
    "    yield \"siren\", company_output[\"siren\"]\n",
    "    yield \"creation_date\", company_output[\"dateCreationUniteLegale\"]\n",
    "    yield \"workforce\", {\n",
    "        \"code\": company_output[\"trancheEffectifsUniteLegale\"],\n",
    "        \"date\": company_output[\"anneeEffectifsUniteLegale\"],\n",
    "    }\n",
    "    yield \"category\", {\n",
    "        \"code\": company_output[\"categorieEntreprise\"],\n",
    "        \"date\": company_output[\"anneeCategorieEntreprise\"],\n",
    "    }  # PME/EI/GE\n",
    "    yield \"activity\", {\n",
    "        \"code\": company_output[\"periodesUniteLegale\"][0][\n",
    "            \"activitePrincipaleUniteLegale\"\n",
    "        ],\n",
    "        \"date\": company_output[\"periodesUniteLegale\"][0][\n",
    "            \"nomenclatureActivitePrincipaleUniteLegale\"\n",
    "        ],\n",
    "    }\n",
    "    yield \"ess\", company_output[\"periodesUniteLegale\"][0][\n",
    "        \"economieSocialeSolidaireUniteLegale\"\n",
    "    ]"
   ]
  },
  {
   "cell_type": "code",
   "execution_count": 4,
   "metadata": {},
   "outputs": [
    {
     "data": {
      "application/javascript": [
       "\n",
       "            setTimeout(function() {\n",
       "                var nbb_cell_id = 4;\n",
       "                var nbb_unformatted_code = \"workforce_codes = {\\n    \\\"NN\\\": None,\\n    \\\"00\\\": [0, 0], \\n    \\\"01\\\": [1, 2],\\n    \\\"02\\\": [3, 5], \\n    \\\"03\\\": [6, 9], \\n    \\\"11\\\": [10, 19], \\n    \\\"12\\\": [20, 49], \\n    \\\"21\\\": [50, 99], \\n    \\\"22\\\": [100, 199], \\n    \\\"31\\\": [200, 249], \\n    \\\"32\\\": [250, 499], \\n    \\\"41\\\": [500, 999], \\n    \\\"42\\\": [1000, 1999], \\n    \\\"51\\\": [2000, 4999], \\n    \\\"52\\\": [5000, 9999], \\n    \\\"53\\\": [10000, None]\\n}\";\n",
       "                var nbb_formatted_code = \"workforce_codes = {\\n    \\\"NN\\\": None,\\n    \\\"00\\\": [0, 0],\\n    \\\"01\\\": [1, 2],\\n    \\\"02\\\": [3, 5],\\n    \\\"03\\\": [6, 9],\\n    \\\"11\\\": [10, 19],\\n    \\\"12\\\": [20, 49],\\n    \\\"21\\\": [50, 99],\\n    \\\"22\\\": [100, 199],\\n    \\\"31\\\": [200, 249],\\n    \\\"32\\\": [250, 499],\\n    \\\"41\\\": [500, 999],\\n    \\\"42\\\": [1000, 1999],\\n    \\\"51\\\": [2000, 4999],\\n    \\\"52\\\": [5000, 9999],\\n    \\\"53\\\": [10000, None],\\n}\";\n",
       "                var nbb_cells = Jupyter.notebook.get_cells();\n",
       "                for (var i = 0; i < nbb_cells.length; ++i) {\n",
       "                    if (nbb_cells[i].input_prompt_number == nbb_cell_id) {\n",
       "                        if (nbb_cells[i].get_text() == nbb_unformatted_code) {\n",
       "                             nbb_cells[i].set_text(nbb_formatted_code);\n",
       "                        }\n",
       "                        break;\n",
       "                    }\n",
       "                }\n",
       "            }, 500);\n",
       "            "
      ],
      "text/plain": [
       "<IPython.core.display.Javascript object>"
      ]
     },
     "metadata": {},
     "output_type": "display_data"
    }
   ],
   "source": [
    "workforce_codes = {\n",
    "    \"NN\": None,\n",
    "    \"00\": [0, 0],\n",
    "    \"01\": [1, 2],\n",
    "    \"02\": [3, 5],\n",
    "    \"03\": [6, 9],\n",
    "    \"11\": [10, 19],\n",
    "    \"12\": [20, 49],\n",
    "    \"21\": [50, 99],\n",
    "    \"22\": [100, 199],\n",
    "    \"31\": [200, 249],\n",
    "    \"32\": [250, 499],\n",
    "    \"41\": [500, 999],\n",
    "    \"42\": [1000, 1999],\n",
    "    \"51\": [2000, 4999],\n",
    "    \"52\": [5000, 9999],\n",
    "    \"53\": [10000, None],\n",
    "}"
   ]
  },
  {
   "cell_type": "code",
   "execution_count": 5,
   "metadata": {},
   "outputs": [
    {
     "data": {
      "application/javascript": [
       "\n",
       "            setTimeout(function() {\n",
       "                var nbb_cell_id = 5;\n",
       "                var nbb_unformatted_code = \"def get_company_info(company_name: str, token_key: str=TOKEN) -> dict:\\n    \\\"\\\"\\\"\\n    Wrapper function able to return the data of the company from its name\\n    \\n    Args:\\n        company_name: name of the company (exact matching)\\n        token_key: Bearer authorization key\\n    \\n    Returns:\\n        Dictionnary of the company's data with following keys\\n        - siren: SIREN of the company\\n        - creation_date: creation date of the company\\n        - workforce: \\n            - code: INSEE code of the workforce\\n            - date: date of declaration of the workforce\\n            - value: value of the workforce\\n        - category:\\n            - code: category (PME, ...)\\n            - date: date of declaration of the category \\n        - activity:\\n            - code: NAF code\\n            - date: NAF system\\n        -ess: if the company is from the ESS ecosystem\\n    \\n    \\\"\\\"\\\"\\n    company_output = call_sirene(company_name, token_key)[\\\"unitesLegales\\\"][0]\\n    company_info = dict(parse_company(company_output))\\n    company_info[\\\"workforce\\\"][\\\"value\\\"] = workforce_codes.get(company_info[\\\"workforce\\\"][\\\"code\\\"])\\n    return company_info\";\n",
       "                var nbb_formatted_code = \"def get_company_info(company_name: str, token_key: str = TOKEN) -> dict:\\n    \\\"\\\"\\\"\\n    Wrapper function able to return the data of the company from its name\\n\\n    Args:\\n        company_name: name of the company (exact matching)\\n        token_key: Bearer authorization key\\n\\n    Returns:\\n        Dictionnary of the company's data with following keys\\n        - siren: SIREN of the company\\n        - creation_date: creation date of the company\\n        - workforce:\\n            - code: INSEE code of the workforce\\n            - date: date of declaration of the workforce\\n            - value: value of the workforce\\n        - category:\\n            - code: category (PME, ...)\\n            - date: date of declaration of the category\\n        - activity:\\n            - code: NAF code\\n            - date: NAF system\\n        -ess: if the company is from the ESS ecosystem\\n\\n    \\\"\\\"\\\"\\n    company_output = call_sirene(company_name, token_key)[\\\"unitesLegales\\\"][0]\\n    company_info = dict(parse_company(company_output))\\n    company_info[\\\"workforce\\\"][\\\"value\\\"] = workforce_codes.get(\\n        company_info[\\\"workforce\\\"][\\\"code\\\"]\\n    )\\n    return company_info\";\n",
       "                var nbb_cells = Jupyter.notebook.get_cells();\n",
       "                for (var i = 0; i < nbb_cells.length; ++i) {\n",
       "                    if (nbb_cells[i].input_prompt_number == nbb_cell_id) {\n",
       "                        if (nbb_cells[i].get_text() == nbb_unformatted_code) {\n",
       "                             nbb_cells[i].set_text(nbb_formatted_code);\n",
       "                        }\n",
       "                        break;\n",
       "                    }\n",
       "                }\n",
       "            }, 500);\n",
       "            "
      ],
      "text/plain": [
       "<IPython.core.display.Javascript object>"
      ]
     },
     "metadata": {},
     "output_type": "display_data"
    }
   ],
   "source": [
    "def get_company_info(company_name: str, token_key: str = TOKEN) -> dict:\n",
    "    \"\"\"\n",
    "    Wrapper function able to return the data of the company from its name\n",
    "\n",
    "    Args:\n",
    "        company_name: name of the company (exact matching)\n",
    "        token_key: Bearer authorization key\n",
    "\n",
    "    Returns:\n",
    "        Dictionnary of the company's data with following keys\n",
    "        - siren: SIREN of the company\n",
    "        - creation_date: creation date of the company\n",
    "        - workforce:\n",
    "            - code: INSEE code of the workforce\n",
    "            - date: date of declaration of the workforce\n",
    "            - value: value of the workforce\n",
    "        - category:\n",
    "            - code: category (PME, ...)\n",
    "            - date: date of declaration of the category\n",
    "        - activity:\n",
    "            - code: NAF code\n",
    "            - date: NAF system\n",
    "        -ess: if the company is from the ESS ecosystem\n",
    "\n",
    "    \"\"\"\n",
    "    company_output = call_sirene(company_name, token_key)[\"unitesLegales\"][0]\n",
    "    company_info = dict(parse_company(company_output))\n",
    "    company_info[\"workforce\"][\"value\"] = workforce_codes.get(\n",
    "        company_info[\"workforce\"][\"code\"]\n",
    "    )\n",
    "    return company_info"
   ]
  },
  {
   "cell_type": "code",
   "execution_count": 6,
   "metadata": {},
   "outputs": [
    {
     "data": {
      "text/plain": [
       "{'siren': '804763670',\n",
       " 'creation_date': '2014-09-23',\n",
       " 'workforce': {'code': '21', 'date': '2019', 'value': [50, 99]},\n",
       " 'category': {'code': 'PME', 'date': '2019'},\n",
       " 'activity': {'code': '62.09Z', 'date': 'NAFRev2'},\n",
       " 'ess': 'N'}"
      ]
     },
     "execution_count": 6,
     "metadata": {},
     "output_type": "execute_result"
    },
    {
     "data": {
      "application/javascript": [
       "\n",
       "            setTimeout(function() {\n",
       "                var nbb_cell_id = 6;\n",
       "                var nbb_unformatted_code = \"get_company_info(\\\"DEEPKI\\\")\";\n",
       "                var nbb_formatted_code = \"get_company_info(\\\"DEEPKI\\\")\";\n",
       "                var nbb_cells = Jupyter.notebook.get_cells();\n",
       "                for (var i = 0; i < nbb_cells.length; ++i) {\n",
       "                    if (nbb_cells[i].input_prompt_number == nbb_cell_id) {\n",
       "                        if (nbb_cells[i].get_text() == nbb_unformatted_code) {\n",
       "                             nbb_cells[i].set_text(nbb_formatted_code);\n",
       "                        }\n",
       "                        break;\n",
       "                    }\n",
       "                }\n",
       "            }, 500);\n",
       "            "
      ],
      "text/plain": [
       "<IPython.core.display.Javascript object>"
      ]
     },
     "metadata": {},
     "output_type": "display_data"
    }
   ],
   "source": [
    "get_company_info(\"DEEPKI\")"
   ]
  }
 ],
 "metadata": {
  "interpreter": {
   "hash": "dbbd0cb75a35265bf8de2579a0fbf0ff2d206dbf4d46519b4e58f6b1a1668382"
  },
  "kernelspec": {
   "display_name": "Python 3 (ipykernel)",
   "language": "python",
   "name": "python3"
  },
  "language_info": {
   "codemirror_mode": {
    "name": "ipython",
    "version": 3
   },
   "file_extension": ".py",
   "mimetype": "text/x-python",
   "name": "python",
   "nbconvert_exporter": "python",
   "pygments_lexer": "ipython3",
   "version": "3.9.1"
  },
  "toc": {
   "base_numbering": 1,
   "nav_menu": {},
   "number_sections": true,
   "sideBar": true,
   "skip_h1_title": false,
   "title_cell": "Table of Contents",
   "title_sidebar": "Contents",
   "toc_cell": false,
   "toc_position": {},
   "toc_section_display": true,
   "toc_window_display": false
  }
 },
 "nbformat": 4,
 "nbformat_minor": 2
}
